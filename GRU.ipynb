{
  "cells": [
    {
      "cell_type": "code",
      "source": [
        "from google.colab import drive\n",
        "drive.mount('/content/drive')"
      ],
      "metadata": {
        "id": "fuhw-w46Nfla",
        "collapsed": true
      },
      "execution_count": null,
      "outputs": []
    },
    {
      "cell_type": "markdown",
      "metadata": {
        "id": "uris6uGkw8hc"
      },
      "source": [
        "\n",
        "## 한국어 자연어 처리 konlpy와 형태소 분석기 MeCab 설치"
      ]
    },
    {
      "cell_type": "code",
      "source": [
        "!install g++ openjdk-8-jdk\n",
        "!pip3 install konlpy JPype1-py3\n",
        "!bash <(curl -s https://raw.githubusercontent.com/konlpy/konlpy/master/scripts/mecab.sh)\n",
        "\n",
        "!pip install mecab-python"
      ],
      "metadata": {
        "collapsed": true,
        "id": "mlrhDqNRSuVN"
      },
      "execution_count": null,
      "outputs": []
    },
    {
      "cell_type": "code",
      "execution_count": null,
      "metadata": {
        "id": "cToxpmJbxkUz",
        "collapsed": true
      },
      "outputs": [],
      "source": [
        "import numpy as np\n",
        "import pandas as pd\n",
        "import matplotlib.pyplot as plt\n",
        "plt.style.use('seaborn-white')\n",
        "from konlpy.tag import Mecab\n",
        "from tensorflow.keras.preprocessing.text import Tokenizer\n",
        "from tensorflow.keras.preprocessing.sequence import pad_sequences"
      ]
    },
    {
      "cell_type": "markdown",
      "metadata": {
        "id": "qd86t5nGFYqf"
      },
      "source": [
        "## 데이터 로드"
      ]
    },
    {
      "cell_type": "code",
      "source": [
        "train_data = pd.read_csv('/content/drive/MyDrive/trainingDataset_FProcessing.csv')\n",
        "test_data = pd.read_csv('/content/drive/MyDrive/testDataset_F.csv')\n",
        "\n",
        "train_data[:10]\n",
        "# test_data[:10]"
      ],
      "metadata": {
        "id": "ivX0FICGVvJ5",
        "colab": {
          "base_uri": "https://localhost:8080/",
          "height": 363
        },
        "outputId": "e936ae83-b030-4872-cff5-f32612c51a3a"
      },
      "execution_count": 77,
      "outputs": [
        {
          "output_type": "execute_result",
          "data": {
            "text/plain": [
              "  Sentiment_L Sentiment_S                                               Text\n",
              "0          기쁨        신이 난                          아내가 드디어 출산하게 되어서 정말 신이 나.\n",
              "1          불안     스트레스 받는            당뇨랑 합병증 때문에 먹어야 할 약이 열 가지가 넘어가니까 스트레스야.\n",
              "2          당황          당황            고등학교에 올라오니 중학교 때보다 수업이 갑자기 어려워져서 당황스러워.\n",
              "3          기쁨        신이 난      재취업이 돼서 받게 된 첫 월급으로 온 가족이 외식을 할 예정이야. 너무 행복해.\n",
              "4          기쁨          안도                       빚을 드디어 다 갚게 되어서 이제야 안도감이 들어.\n",
              "5          불안         취약한  이제 곧 은퇴할 시기가 되었어. 내가 먼저 은퇴를 하고 육 개월 후에 남편도 은퇴를...\n",
              "6          슬픔         우울한                      사십 대에 접어들면서 머리카락이 많이 빠져 고민이야.\n",
              "7          분노      구역질 나는                                     이제 돈이라면 지긋지긋해.\n",
              "8          분노         좌절한             친구들이 나를 괴롭혀. 부모님과 선생님께 얘기했는데도 믿어주지 않아.\n",
              "9          슬픔      눈물이 나는                                       친구 때문에 눈물 나."
            ],
            "text/html": [
              "\n",
              "  <div id=\"df-775d6ac3-51cb-4748-9e1b-5cee2e3ce550\" class=\"colab-df-container\">\n",
              "    <div>\n",
              "<style scoped>\n",
              "    .dataframe tbody tr th:only-of-type {\n",
              "        vertical-align: middle;\n",
              "    }\n",
              "\n",
              "    .dataframe tbody tr th {\n",
              "        vertical-align: top;\n",
              "    }\n",
              "\n",
              "    .dataframe thead th {\n",
              "        text-align: right;\n",
              "    }\n",
              "</style>\n",
              "<table border=\"1\" class=\"dataframe\">\n",
              "  <thead>\n",
              "    <tr style=\"text-align: right;\">\n",
              "      <th></th>\n",
              "      <th>Sentiment_L</th>\n",
              "      <th>Sentiment_S</th>\n",
              "      <th>Text</th>\n",
              "    </tr>\n",
              "  </thead>\n",
              "  <tbody>\n",
              "    <tr>\n",
              "      <th>0</th>\n",
              "      <td>기쁨</td>\n",
              "      <td>신이 난</td>\n",
              "      <td>아내가 드디어 출산하게 되어서 정말 신이 나.</td>\n",
              "    </tr>\n",
              "    <tr>\n",
              "      <th>1</th>\n",
              "      <td>불안</td>\n",
              "      <td>스트레스 받는</td>\n",
              "      <td>당뇨랑 합병증 때문에 먹어야 할 약이 열 가지가 넘어가니까 스트레스야.</td>\n",
              "    </tr>\n",
              "    <tr>\n",
              "      <th>2</th>\n",
              "      <td>당황</td>\n",
              "      <td>당황</td>\n",
              "      <td>고등학교에 올라오니 중학교 때보다 수업이 갑자기 어려워져서 당황스러워.</td>\n",
              "    </tr>\n",
              "    <tr>\n",
              "      <th>3</th>\n",
              "      <td>기쁨</td>\n",
              "      <td>신이 난</td>\n",
              "      <td>재취업이 돼서 받게 된 첫 월급으로 온 가족이 외식을 할 예정이야. 너무 행복해.</td>\n",
              "    </tr>\n",
              "    <tr>\n",
              "      <th>4</th>\n",
              "      <td>기쁨</td>\n",
              "      <td>안도</td>\n",
              "      <td>빚을 드디어 다 갚게 되어서 이제야 안도감이 들어.</td>\n",
              "    </tr>\n",
              "    <tr>\n",
              "      <th>5</th>\n",
              "      <td>불안</td>\n",
              "      <td>취약한</td>\n",
              "      <td>이제 곧 은퇴할 시기가 되었어. 내가 먼저 은퇴를 하고 육 개월 후에 남편도 은퇴를...</td>\n",
              "    </tr>\n",
              "    <tr>\n",
              "      <th>6</th>\n",
              "      <td>슬픔</td>\n",
              "      <td>우울한</td>\n",
              "      <td>사십 대에 접어들면서 머리카락이 많이 빠져 고민이야.</td>\n",
              "    </tr>\n",
              "    <tr>\n",
              "      <th>7</th>\n",
              "      <td>분노</td>\n",
              "      <td>구역질 나는</td>\n",
              "      <td>이제 돈이라면 지긋지긋해.</td>\n",
              "    </tr>\n",
              "    <tr>\n",
              "      <th>8</th>\n",
              "      <td>분노</td>\n",
              "      <td>좌절한</td>\n",
              "      <td>친구들이 나를 괴롭혀. 부모님과 선생님께 얘기했는데도 믿어주지 않아.</td>\n",
              "    </tr>\n",
              "    <tr>\n",
              "      <th>9</th>\n",
              "      <td>슬픔</td>\n",
              "      <td>눈물이 나는</td>\n",
              "      <td>친구 때문에 눈물 나.</td>\n",
              "    </tr>\n",
              "  </tbody>\n",
              "</table>\n",
              "</div>\n",
              "    <div class=\"colab-df-buttons\">\n",
              "\n",
              "  <div class=\"colab-df-container\">\n",
              "    <button class=\"colab-df-convert\" onclick=\"convertToInteractive('df-775d6ac3-51cb-4748-9e1b-5cee2e3ce550')\"\n",
              "            title=\"Convert this dataframe to an interactive table.\"\n",
              "            style=\"display:none;\">\n",
              "\n",
              "  <svg xmlns=\"http://www.w3.org/2000/svg\" height=\"24px\" viewBox=\"0 -960 960 960\">\n",
              "    <path d=\"M120-120v-720h720v720H120Zm60-500h600v-160H180v160Zm220 220h160v-160H400v160Zm0 220h160v-160H400v160ZM180-400h160v-160H180v160Zm440 0h160v-160H620v160ZM180-180h160v-160H180v160Zm440 0h160v-160H620v160Z\"/>\n",
              "  </svg>\n",
              "    </button>\n",
              "\n",
              "  <style>\n",
              "    .colab-df-container {\n",
              "      display:flex;\n",
              "      gap: 12px;\n",
              "    }\n",
              "\n",
              "    .colab-df-convert {\n",
              "      background-color: #E8F0FE;\n",
              "      border: none;\n",
              "      border-radius: 50%;\n",
              "      cursor: pointer;\n",
              "      display: none;\n",
              "      fill: #1967D2;\n",
              "      height: 32px;\n",
              "      padding: 0 0 0 0;\n",
              "      width: 32px;\n",
              "    }\n",
              "\n",
              "    .colab-df-convert:hover {\n",
              "      background-color: #E2EBFA;\n",
              "      box-shadow: 0px 1px 2px rgba(60, 64, 67, 0.3), 0px 1px 3px 1px rgba(60, 64, 67, 0.15);\n",
              "      fill: #174EA6;\n",
              "    }\n",
              "\n",
              "    .colab-df-buttons div {\n",
              "      margin-bottom: 4px;\n",
              "    }\n",
              "\n",
              "    [theme=dark] .colab-df-convert {\n",
              "      background-color: #3B4455;\n",
              "      fill: #D2E3FC;\n",
              "    }\n",
              "\n",
              "    [theme=dark] .colab-df-convert:hover {\n",
              "      background-color: #434B5C;\n",
              "      box-shadow: 0px 1px 3px 1px rgba(0, 0, 0, 0.15);\n",
              "      filter: drop-shadow(0px 1px 2px rgba(0, 0, 0, 0.3));\n",
              "      fill: #FFFFFF;\n",
              "    }\n",
              "  </style>\n",
              "\n",
              "    <script>\n",
              "      const buttonEl =\n",
              "        document.querySelector('#df-775d6ac3-51cb-4748-9e1b-5cee2e3ce550 button.colab-df-convert');\n",
              "      buttonEl.style.display =\n",
              "        google.colab.kernel.accessAllowed ? 'block' : 'none';\n",
              "\n",
              "      async function convertToInteractive(key) {\n",
              "        const element = document.querySelector('#df-775d6ac3-51cb-4748-9e1b-5cee2e3ce550');\n",
              "        const dataTable =\n",
              "          await google.colab.kernel.invokeFunction('convertToInteractive',\n",
              "                                                    [key], {});\n",
              "        if (!dataTable) return;\n",
              "\n",
              "        const docLinkHtml = 'Like what you see? Visit the ' +\n",
              "          '<a target=\"_blank\" href=https://colab.research.google.com/notebooks/data_table.ipynb>data table notebook</a>'\n",
              "          + ' to learn more about interactive tables.';\n",
              "        element.innerHTML = '';\n",
              "        dataTable['output_type'] = 'display_data';\n",
              "        await google.colab.output.renderOutput(dataTable, element);\n",
              "        const docLink = document.createElement('div');\n",
              "        docLink.innerHTML = docLinkHtml;\n",
              "        element.appendChild(docLink);\n",
              "      }\n",
              "    </script>\n",
              "  </div>\n",
              "\n",
              "\n",
              "<div id=\"df-49294f78-5fc5-4e38-aab6-9cce849c9fc0\">\n",
              "  <button class=\"colab-df-quickchart\" onclick=\"quickchart('df-49294f78-5fc5-4e38-aab6-9cce849c9fc0')\"\n",
              "            title=\"Suggest charts\"\n",
              "            style=\"display:none;\">\n",
              "\n",
              "<svg xmlns=\"http://www.w3.org/2000/svg\" height=\"24px\"viewBox=\"0 0 24 24\"\n",
              "     width=\"24px\">\n",
              "    <g>\n",
              "        <path d=\"M19 3H5c-1.1 0-2 .9-2 2v14c0 1.1.9 2 2 2h14c1.1 0 2-.9 2-2V5c0-1.1-.9-2-2-2zM9 17H7v-7h2v7zm4 0h-2V7h2v10zm4 0h-2v-4h2v4z\"/>\n",
              "    </g>\n",
              "</svg>\n",
              "  </button>\n",
              "\n",
              "<style>\n",
              "  .colab-df-quickchart {\n",
              "      --bg-color: #E8F0FE;\n",
              "      --fill-color: #1967D2;\n",
              "      --hover-bg-color: #E2EBFA;\n",
              "      --hover-fill-color: #174EA6;\n",
              "      --disabled-fill-color: #AAA;\n",
              "      --disabled-bg-color: #DDD;\n",
              "  }\n",
              "\n",
              "  [theme=dark] .colab-df-quickchart {\n",
              "      --bg-color: #3B4455;\n",
              "      --fill-color: #D2E3FC;\n",
              "      --hover-bg-color: #434B5C;\n",
              "      --hover-fill-color: #FFFFFF;\n",
              "      --disabled-bg-color: #3B4455;\n",
              "      --disabled-fill-color: #666;\n",
              "  }\n",
              "\n",
              "  .colab-df-quickchart {\n",
              "    background-color: var(--bg-color);\n",
              "    border: none;\n",
              "    border-radius: 50%;\n",
              "    cursor: pointer;\n",
              "    display: none;\n",
              "    fill: var(--fill-color);\n",
              "    height: 32px;\n",
              "    padding: 0;\n",
              "    width: 32px;\n",
              "  }\n",
              "\n",
              "  .colab-df-quickchart:hover {\n",
              "    background-color: var(--hover-bg-color);\n",
              "    box-shadow: 0 1px 2px rgba(60, 64, 67, 0.3), 0 1px 3px 1px rgba(60, 64, 67, 0.15);\n",
              "    fill: var(--button-hover-fill-color);\n",
              "  }\n",
              "\n",
              "  .colab-df-quickchart-complete:disabled,\n",
              "  .colab-df-quickchart-complete:disabled:hover {\n",
              "    background-color: var(--disabled-bg-color);\n",
              "    fill: var(--disabled-fill-color);\n",
              "    box-shadow: none;\n",
              "  }\n",
              "\n",
              "  .colab-df-spinner {\n",
              "    border: 2px solid var(--fill-color);\n",
              "    border-color: transparent;\n",
              "    border-bottom-color: var(--fill-color);\n",
              "    animation:\n",
              "      spin 1s steps(1) infinite;\n",
              "  }\n",
              "\n",
              "  @keyframes spin {\n",
              "    0% {\n",
              "      border-color: transparent;\n",
              "      border-bottom-color: var(--fill-color);\n",
              "      border-left-color: var(--fill-color);\n",
              "    }\n",
              "    20% {\n",
              "      border-color: transparent;\n",
              "      border-left-color: var(--fill-color);\n",
              "      border-top-color: var(--fill-color);\n",
              "    }\n",
              "    30% {\n",
              "      border-color: transparent;\n",
              "      border-left-color: var(--fill-color);\n",
              "      border-top-color: var(--fill-color);\n",
              "      border-right-color: var(--fill-color);\n",
              "    }\n",
              "    40% {\n",
              "      border-color: transparent;\n",
              "      border-right-color: var(--fill-color);\n",
              "      border-top-color: var(--fill-color);\n",
              "    }\n",
              "    60% {\n",
              "      border-color: transparent;\n",
              "      border-right-color: var(--fill-color);\n",
              "    }\n",
              "    80% {\n",
              "      border-color: transparent;\n",
              "      border-right-color: var(--fill-color);\n",
              "      border-bottom-color: var(--fill-color);\n",
              "    }\n",
              "    90% {\n",
              "      border-color: transparent;\n",
              "      border-bottom-color: var(--fill-color);\n",
              "    }\n",
              "  }\n",
              "</style>\n",
              "\n",
              "  <script>\n",
              "    async function quickchart(key) {\n",
              "      const quickchartButtonEl =\n",
              "        document.querySelector('#' + key + ' button');\n",
              "      quickchartButtonEl.disabled = true;  // To prevent multiple clicks.\n",
              "      quickchartButtonEl.classList.add('colab-df-spinner');\n",
              "      try {\n",
              "        const charts = await google.colab.kernel.invokeFunction(\n",
              "            'suggestCharts', [key], {});\n",
              "      } catch (error) {\n",
              "        console.error('Error during call to suggestCharts:', error);\n",
              "      }\n",
              "      quickchartButtonEl.classList.remove('colab-df-spinner');\n",
              "      quickchartButtonEl.classList.add('colab-df-quickchart-complete');\n",
              "    }\n",
              "    (() => {\n",
              "      let quickchartButtonEl =\n",
              "        document.querySelector('#df-49294f78-5fc5-4e38-aab6-9cce849c9fc0 button');\n",
              "      quickchartButtonEl.style.display =\n",
              "        google.colab.kernel.accessAllowed ? 'block' : 'none';\n",
              "    })();\n",
              "  </script>\n",
              "</div>\n",
              "\n",
              "    </div>\n",
              "  </div>\n"
            ],
            "application/vnd.google.colaboratory.intrinsic+json": {
              "type": "dataframe",
              "summary": "{\n  \"name\": \"# test_data[:10]\",\n  \"rows\": 10,\n  \"fields\": [\n    {\n      \"column\": \"Sentiment_L\",\n      \"properties\": {\n        \"dtype\": \"string\",\n        \"num_unique_values\": 5,\n        \"samples\": [\n          \"\\ubd88\\uc548\",\n          \"\\ubd84\\ub178\",\n          \"\\ub2f9\\ud669\"\n        ],\n        \"semantic_type\": \"\",\n        \"description\": \"\"\n      }\n    },\n    {\n      \"column\": \"Sentiment_S\",\n      \"properties\": {\n        \"dtype\": \"string\",\n        \"num_unique_values\": 9,\n        \"samples\": [\n          \"\\uc88c\\uc808\\ud55c\",\n          \"\\uc2a4\\ud2b8\\ub808\\uc2a4 \\ubc1b\\ub294\",\n          \"\\uc6b0\\uc6b8\\ud55c\"\n        ],\n        \"semantic_type\": \"\",\n        \"description\": \"\"\n      }\n    },\n    {\n      \"column\": \"Text\",\n      \"properties\": {\n        \"dtype\": \"string\",\n        \"num_unique_values\": 10,\n        \"samples\": [\n          \"\\uce5c\\uad6c\\ub4e4\\uc774 \\ub098\\ub97c \\uad34\\ub86d\\ud600. \\ubd80\\ubaa8\\ub2d8\\uacfc \\uc120\\uc0dd\\ub2d8\\uaed8 \\uc598\\uae30\\ud588\\ub294\\ub370\\ub3c4 \\ubbff\\uc5b4\\uc8fc\\uc9c0 \\uc54a\\uc544.\",\n          \"\\ub2f9\\ub1e8\\ub791 \\ud569\\ubcd1\\uc99d \\ub54c\\ubb38\\uc5d0 \\uba39\\uc5b4\\uc57c \\ud560 \\uc57d\\uc774 \\uc5f4 \\uac00\\uc9c0\\uac00 \\ub118\\uc5b4\\uac00\\ub2c8\\uae4c \\uc2a4\\ud2b8\\ub808\\uc2a4\\uc57c.\",\n          \"\\uc774\\uc81c \\uace7 \\uc740\\ud1f4\\ud560 \\uc2dc\\uae30\\uac00 \\ub418\\uc5c8\\uc5b4. \\ub0b4\\uac00 \\uba3c\\uc800 \\uc740\\ud1f4\\ub97c \\ud558\\uace0 \\uc721 \\uac1c\\uc6d4 \\ud6c4\\uc5d0 \\ub0a8\\ud3b8\\ub3c4 \\uc740\\ud1f4\\ub97c \\ud558\\uace0. \\uadf8\\ub7ec\\uba74 \\ub458\\uc774 \\ud558\\ub8e8 \\uc885\\uc77c \\ud568\\uaed8 \\uc788\\uaca0\\ub124. \\uc0dd\\uac01\\ub9cc \\ud574\\ub3c4 \\uc228\\uc774 \\ub9c9\\ud600.\"\n        ],\n        \"semantic_type\": \"\",\n        \"description\": \"\"\n      }\n    }\n  ]\n}"
            }
          },
          "metadata": {},
          "execution_count": 77
        }
      ]
    },
    {
      "cell_type": "markdown",
      "metadata": {
        "id": "ID-guJ4aL8yi"
      },
      "source": [
        "## 중복 및 결측치 처리\n",
        "1. 원본 / 중복 데이터 개수 확인\n",
        "2. 중복 조회 및 처리\n",
        "3. 결측치 처리\n"
      ]
    },
    {
      "cell_type": "code",
      "source": [
        "train_data.count()"
      ],
      "metadata": {
        "id": "_Nul0nX9Dj6v",
        "colab": {
          "base_uri": "https://localhost:8080/",
          "height": 178
        },
        "outputId": "0167dbea-382e-4b22-b154-454384732589"
      },
      "execution_count": 78,
      "outputs": [
        {
          "output_type": "execute_result",
          "data": {
            "text/plain": [
              "Sentiment_L    40771\n",
              "Sentiment_S    40771\n",
              "Text           40771\n",
              "dtype: int64"
            ],
            "text/html": [
              "<div>\n",
              "<style scoped>\n",
              "    .dataframe tbody tr th:only-of-type {\n",
              "        vertical-align: middle;\n",
              "    }\n",
              "\n",
              "    .dataframe tbody tr th {\n",
              "        vertical-align: top;\n",
              "    }\n",
              "\n",
              "    .dataframe thead th {\n",
              "        text-align: right;\n",
              "    }\n",
              "</style>\n",
              "<table border=\"1\" class=\"dataframe\">\n",
              "  <thead>\n",
              "    <tr style=\"text-align: right;\">\n",
              "      <th></th>\n",
              "      <th>0</th>\n",
              "    </tr>\n",
              "  </thead>\n",
              "  <tbody>\n",
              "    <tr>\n",
              "      <th>Sentiment_L</th>\n",
              "      <td>40771</td>\n",
              "    </tr>\n",
              "    <tr>\n",
              "      <th>Sentiment_S</th>\n",
              "      <td>40771</td>\n",
              "    </tr>\n",
              "    <tr>\n",
              "      <th>Text</th>\n",
              "      <td>40771</td>\n",
              "    </tr>\n",
              "  </tbody>\n",
              "</table>\n",
              "</div><br><label><b>dtype:</b> int64</label>"
            ]
          },
          "metadata": {},
          "execution_count": 78
        }
      ]
    },
    {
      "cell_type": "code",
      "source": [
        "print(train_data['Sentiment_L'].nunique()) # 감정 대분류\n",
        "print(train_data['Sentiment_S'].nunique()) # 감정 소분류\n",
        "print(train_data['Text'].nunique()) # 텍스트"
      ],
      "metadata": {
        "id": "6v5rF2asGSoC",
        "colab": {
          "base_uri": "https://localhost:8080/"
        },
        "outputId": "801dd465-4e96-4878-83e6-1e8301dbe503"
      },
      "execution_count": 79,
      "outputs": [
        {
          "output_type": "stream",
          "name": "stdout",
          "text": [
            "6\n",
            "58\n",
            "39314\n"
          ]
        }
      ]
    },
    {
      "cell_type": "code",
      "source": [
        "duplicateRow = train_data[train_data.duplicated('Text')]\n",
        "duplicateRow['Text'].sort_values()"
      ],
      "metadata": {
        "id": "N8d5RV67LLPD",
        "colab": {
          "base_uri": "https://localhost:8080/",
          "height": 458
        },
        "outputId": "898e15ac-d531-4c44-a440-0e8caade679d"
      },
      "execution_count": 80,
      "outputs": [
        {
          "output_type": "execute_result",
          "data": {
            "text/plain": [
              "39203                        가끔 회사에서 내가 존재감이 없는 것 같아 외로웠어.\n",
              "34177          가난한 우리 집 형편에 합의금을 받고서 오히려 가해자 가족에게 고맙다고 했어.\n",
              "21760               가는 곳마다 금연구역이라 흡연자들이 담배 필 곳이 없어 스트레스받아.\n",
              "32868         가뜩이나 불면증이 있는데 위층에 사람이 이사 온 후 소음이 심해 진절머리가 나.\n",
              "40133                   가장 믿던 팀원마저 일을 해오지 않았어. 너무 배신감이 들어.\n",
              "                               ...                        \n",
              "25305                    회의 시간 때 내가 한 말실수로 분위기가 싸해져서 창피했어.\n",
              "28502    회의 시간에 나의 직급이 낮아서 그런지 의견을 무시하는 경향이 있어서 의견을 제시하...\n",
              "20227                 회의에서 아무도 내 의견을 들어주지 않아. 외톨이가 된 기분이야.\n",
              "33413                 후배들에게 밀린다는 생각을 계속하다 보니 감정이 마비된 느낌이야.\n",
              "35910                               휴일은 가족과 함께할 수 있어 참 좋아.\n",
              "Name: Text, Length: 1457, dtype: object"
            ],
            "text/html": [
              "<div>\n",
              "<style scoped>\n",
              "    .dataframe tbody tr th:only-of-type {\n",
              "        vertical-align: middle;\n",
              "    }\n",
              "\n",
              "    .dataframe tbody tr th {\n",
              "        vertical-align: top;\n",
              "    }\n",
              "\n",
              "    .dataframe thead th {\n",
              "        text-align: right;\n",
              "    }\n",
              "</style>\n",
              "<table border=\"1\" class=\"dataframe\">\n",
              "  <thead>\n",
              "    <tr style=\"text-align: right;\">\n",
              "      <th></th>\n",
              "      <th>Text</th>\n",
              "    </tr>\n",
              "  </thead>\n",
              "  <tbody>\n",
              "    <tr>\n",
              "      <th>39203</th>\n",
              "      <td>가끔 회사에서 내가 존재감이 없는 것 같아 외로웠어.</td>\n",
              "    </tr>\n",
              "    <tr>\n",
              "      <th>34177</th>\n",
              "      <td>가난한 우리 집 형편에 합의금을 받고서 오히려 가해자 가족에게 고맙다고 했어.</td>\n",
              "    </tr>\n",
              "    <tr>\n",
              "      <th>21760</th>\n",
              "      <td>가는 곳마다 금연구역이라 흡연자들이 담배 필 곳이 없어 스트레스받아.</td>\n",
              "    </tr>\n",
              "    <tr>\n",
              "      <th>32868</th>\n",
              "      <td>가뜩이나 불면증이 있는데 위층에 사람이 이사 온 후 소음이 심해 진절머리가 나.</td>\n",
              "    </tr>\n",
              "    <tr>\n",
              "      <th>40133</th>\n",
              "      <td>가장 믿던 팀원마저 일을 해오지 않았어. 너무 배신감이 들어.</td>\n",
              "    </tr>\n",
              "    <tr>\n",
              "      <th>...</th>\n",
              "      <td>...</td>\n",
              "    </tr>\n",
              "    <tr>\n",
              "      <th>25305</th>\n",
              "      <td>회의 시간 때 내가 한 말실수로 분위기가 싸해져서 창피했어.</td>\n",
              "    </tr>\n",
              "    <tr>\n",
              "      <th>28502</th>\n",
              "      <td>회의 시간에 나의 직급이 낮아서 그런지 의견을 무시하는 경향이 있어서 의견을 제시하...</td>\n",
              "    </tr>\n",
              "    <tr>\n",
              "      <th>20227</th>\n",
              "      <td>회의에서 아무도 내 의견을 들어주지 않아. 외톨이가 된 기분이야.</td>\n",
              "    </tr>\n",
              "    <tr>\n",
              "      <th>33413</th>\n",
              "      <td>후배들에게 밀린다는 생각을 계속하다 보니 감정이 마비된 느낌이야.</td>\n",
              "    </tr>\n",
              "    <tr>\n",
              "      <th>35910</th>\n",
              "      <td>휴일은 가족과 함께할 수 있어 참 좋아.</td>\n",
              "    </tr>\n",
              "  </tbody>\n",
              "</table>\n",
              "<p>1457 rows × 1 columns</p>\n",
              "</div><br><label><b>dtype:</b> object</label>"
            ]
          },
          "metadata": {},
          "execution_count": 80
        }
      ]
    },
    {
      "cell_type": "code",
      "source": [
        "train_data.drop_duplicates(subset=['Text'], inplace=True)\n",
        "train_data.count() # 중복 처리 확인"
      ],
      "metadata": {
        "id": "qqo4cRybScuZ",
        "colab": {
          "base_uri": "https://localhost:8080/",
          "height": 178
        },
        "outputId": "10517cac-69e5-4b1c-e43d-df221633fc0c"
      },
      "execution_count": 81,
      "outputs": [
        {
          "output_type": "execute_result",
          "data": {
            "text/plain": [
              "Sentiment_L    39314\n",
              "Sentiment_S    39314\n",
              "Text           39314\n",
              "dtype: int64"
            ],
            "text/html": [
              "<div>\n",
              "<style scoped>\n",
              "    .dataframe tbody tr th:only-of-type {\n",
              "        vertical-align: middle;\n",
              "    }\n",
              "\n",
              "    .dataframe tbody tr th {\n",
              "        vertical-align: top;\n",
              "    }\n",
              "\n",
              "    .dataframe thead th {\n",
              "        text-align: right;\n",
              "    }\n",
              "</style>\n",
              "<table border=\"1\" class=\"dataframe\">\n",
              "  <thead>\n",
              "    <tr style=\"text-align: right;\">\n",
              "      <th></th>\n",
              "      <th>0</th>\n",
              "    </tr>\n",
              "  </thead>\n",
              "  <tbody>\n",
              "    <tr>\n",
              "      <th>Sentiment_L</th>\n",
              "      <td>39314</td>\n",
              "    </tr>\n",
              "    <tr>\n",
              "      <th>Sentiment_S</th>\n",
              "      <td>39314</td>\n",
              "    </tr>\n",
              "    <tr>\n",
              "      <th>Text</th>\n",
              "      <td>39314</td>\n",
              "    </tr>\n",
              "  </tbody>\n",
              "</table>\n",
              "</div><br><label><b>dtype:</b> int64</label>"
            ]
          },
          "metadata": {},
          "execution_count": 81
        }
      ]
    },
    {
      "cell_type": "code",
      "execution_count": 82,
      "metadata": {
        "id": "My9rfGG7WN6C",
        "colab": {
          "base_uri": "https://localhost:8080/"
        },
        "outputId": "2231dac4-0d95-49c2-dafd-d6ec8e0f3d0c"
      },
      "outputs": [
        {
          "output_type": "stream",
          "name": "stdout",
          "text": [
            "Sentiment_L    0\n",
            "Sentiment_S    0\n",
            "Text           0\n",
            "dtype: int64\n"
          ]
        }
      ],
      "source": [
        "print(train_data.isnull().sum())\n",
        "\n",
        "train_data = train_data.dropna(how='any')"
      ]
    },
    {
      "cell_type": "markdown",
      "metadata": {
        "id": "QgP93rVOY_ug"
      },
      "source": [
        "## 데이터 정제\n",
        "한글과 공백을 제외하고 모두 제거"
      ]
    },
    {
      "cell_type": "code",
      "execution_count": 83,
      "metadata": {
        "id": "9nz7h6JuYB3F",
        "colab": {
          "base_uri": "https://localhost:8080/",
          "height": 363
        },
        "outputId": "f8d847bb-8bd4-478e-e051-fc2783e3c85a"
      },
      "outputs": [
        {
          "output_type": "execute_result",
          "data": {
            "text/plain": [
              "  Sentiment_L Sentiment_S                                               Text\n",
              "0          기쁨        신이 난                           아내가 드디어 출산하게 되어서 정말 신이 나\n",
              "1          불안     스트레스 받는             당뇨랑 합병증 때문에 먹어야 할 약이 열 가지가 넘어가니까 스트레스야\n",
              "2          당황          당황             고등학교에 올라오니 중학교 때보다 수업이 갑자기 어려워져서 당황스러워\n",
              "3          기쁨        신이 난        재취업이 돼서 받게 된 첫 월급으로 온 가족이 외식을 할 예정이야 너무 행복해\n",
              "4          기쁨          안도                        빚을 드디어 다 갚게 되어서 이제야 안도감이 들어\n",
              "5          불안         취약한  이제 곧 은퇴할 시기가 되었어 내가 먼저 은퇴를 하고 육 개월 후에 남편도 은퇴를 ...\n",
              "6          슬픔         우울한                       사십 대에 접어들면서 머리카락이 많이 빠져 고민이야\n",
              "7          분노      구역질 나는                                      이제 돈이라면 지긋지긋해\n",
              "8          분노         좌절한               친구들이 나를 괴롭혀 부모님과 선생님께 얘기했는데도 믿어주지 않아\n",
              "9          슬픔      눈물이 나는                                        친구 때문에 눈물 나"
            ],
            "text/html": [
              "\n",
              "  <div id=\"df-710293a4-c640-4a9f-870d-f5d71a74a6cc\" class=\"colab-df-container\">\n",
              "    <div>\n",
              "<style scoped>\n",
              "    .dataframe tbody tr th:only-of-type {\n",
              "        vertical-align: middle;\n",
              "    }\n",
              "\n",
              "    .dataframe tbody tr th {\n",
              "        vertical-align: top;\n",
              "    }\n",
              "\n",
              "    .dataframe thead th {\n",
              "        text-align: right;\n",
              "    }\n",
              "</style>\n",
              "<table border=\"1\" class=\"dataframe\">\n",
              "  <thead>\n",
              "    <tr style=\"text-align: right;\">\n",
              "      <th></th>\n",
              "      <th>Sentiment_L</th>\n",
              "      <th>Sentiment_S</th>\n",
              "      <th>Text</th>\n",
              "    </tr>\n",
              "  </thead>\n",
              "  <tbody>\n",
              "    <tr>\n",
              "      <th>0</th>\n",
              "      <td>기쁨</td>\n",
              "      <td>신이 난</td>\n",
              "      <td>아내가 드디어 출산하게 되어서 정말 신이 나</td>\n",
              "    </tr>\n",
              "    <tr>\n",
              "      <th>1</th>\n",
              "      <td>불안</td>\n",
              "      <td>스트레스 받는</td>\n",
              "      <td>당뇨랑 합병증 때문에 먹어야 할 약이 열 가지가 넘어가니까 스트레스야</td>\n",
              "    </tr>\n",
              "    <tr>\n",
              "      <th>2</th>\n",
              "      <td>당황</td>\n",
              "      <td>당황</td>\n",
              "      <td>고등학교에 올라오니 중학교 때보다 수업이 갑자기 어려워져서 당황스러워</td>\n",
              "    </tr>\n",
              "    <tr>\n",
              "      <th>3</th>\n",
              "      <td>기쁨</td>\n",
              "      <td>신이 난</td>\n",
              "      <td>재취업이 돼서 받게 된 첫 월급으로 온 가족이 외식을 할 예정이야 너무 행복해</td>\n",
              "    </tr>\n",
              "    <tr>\n",
              "      <th>4</th>\n",
              "      <td>기쁨</td>\n",
              "      <td>안도</td>\n",
              "      <td>빚을 드디어 다 갚게 되어서 이제야 안도감이 들어</td>\n",
              "    </tr>\n",
              "    <tr>\n",
              "      <th>5</th>\n",
              "      <td>불안</td>\n",
              "      <td>취약한</td>\n",
              "      <td>이제 곧 은퇴할 시기가 되었어 내가 먼저 은퇴를 하고 육 개월 후에 남편도 은퇴를 ...</td>\n",
              "    </tr>\n",
              "    <tr>\n",
              "      <th>6</th>\n",
              "      <td>슬픔</td>\n",
              "      <td>우울한</td>\n",
              "      <td>사십 대에 접어들면서 머리카락이 많이 빠져 고민이야</td>\n",
              "    </tr>\n",
              "    <tr>\n",
              "      <th>7</th>\n",
              "      <td>분노</td>\n",
              "      <td>구역질 나는</td>\n",
              "      <td>이제 돈이라면 지긋지긋해</td>\n",
              "    </tr>\n",
              "    <tr>\n",
              "      <th>8</th>\n",
              "      <td>분노</td>\n",
              "      <td>좌절한</td>\n",
              "      <td>친구들이 나를 괴롭혀 부모님과 선생님께 얘기했는데도 믿어주지 않아</td>\n",
              "    </tr>\n",
              "    <tr>\n",
              "      <th>9</th>\n",
              "      <td>슬픔</td>\n",
              "      <td>눈물이 나는</td>\n",
              "      <td>친구 때문에 눈물 나</td>\n",
              "    </tr>\n",
              "  </tbody>\n",
              "</table>\n",
              "</div>\n",
              "    <div class=\"colab-df-buttons\">\n",
              "\n",
              "  <div class=\"colab-df-container\">\n",
              "    <button class=\"colab-df-convert\" onclick=\"convertToInteractive('df-710293a4-c640-4a9f-870d-f5d71a74a6cc')\"\n",
              "            title=\"Convert this dataframe to an interactive table.\"\n",
              "            style=\"display:none;\">\n",
              "\n",
              "  <svg xmlns=\"http://www.w3.org/2000/svg\" height=\"24px\" viewBox=\"0 -960 960 960\">\n",
              "    <path d=\"M120-120v-720h720v720H120Zm60-500h600v-160H180v160Zm220 220h160v-160H400v160Zm0 220h160v-160H400v160ZM180-400h160v-160H180v160Zm440 0h160v-160H620v160ZM180-180h160v-160H180v160Zm440 0h160v-160H620v160Z\"/>\n",
              "  </svg>\n",
              "    </button>\n",
              "\n",
              "  <style>\n",
              "    .colab-df-container {\n",
              "      display:flex;\n",
              "      gap: 12px;\n",
              "    }\n",
              "\n",
              "    .colab-df-convert {\n",
              "      background-color: #E8F0FE;\n",
              "      border: none;\n",
              "      border-radius: 50%;\n",
              "      cursor: pointer;\n",
              "      display: none;\n",
              "      fill: #1967D2;\n",
              "      height: 32px;\n",
              "      padding: 0 0 0 0;\n",
              "      width: 32px;\n",
              "    }\n",
              "\n",
              "    .colab-df-convert:hover {\n",
              "      background-color: #E2EBFA;\n",
              "      box-shadow: 0px 1px 2px rgba(60, 64, 67, 0.3), 0px 1px 3px 1px rgba(60, 64, 67, 0.15);\n",
              "      fill: #174EA6;\n",
              "    }\n",
              "\n",
              "    .colab-df-buttons div {\n",
              "      margin-bottom: 4px;\n",
              "    }\n",
              "\n",
              "    [theme=dark] .colab-df-convert {\n",
              "      background-color: #3B4455;\n",
              "      fill: #D2E3FC;\n",
              "    }\n",
              "\n",
              "    [theme=dark] .colab-df-convert:hover {\n",
              "      background-color: #434B5C;\n",
              "      box-shadow: 0px 1px 3px 1px rgba(0, 0, 0, 0.15);\n",
              "      filter: drop-shadow(0px 1px 2px rgba(0, 0, 0, 0.3));\n",
              "      fill: #FFFFFF;\n",
              "    }\n",
              "  </style>\n",
              "\n",
              "    <script>\n",
              "      const buttonEl =\n",
              "        document.querySelector('#df-710293a4-c640-4a9f-870d-f5d71a74a6cc button.colab-df-convert');\n",
              "      buttonEl.style.display =\n",
              "        google.colab.kernel.accessAllowed ? 'block' : 'none';\n",
              "\n",
              "      async function convertToInteractive(key) {\n",
              "        const element = document.querySelector('#df-710293a4-c640-4a9f-870d-f5d71a74a6cc');\n",
              "        const dataTable =\n",
              "          await google.colab.kernel.invokeFunction('convertToInteractive',\n",
              "                                                    [key], {});\n",
              "        if (!dataTable) return;\n",
              "\n",
              "        const docLinkHtml = 'Like what you see? Visit the ' +\n",
              "          '<a target=\"_blank\" href=https://colab.research.google.com/notebooks/data_table.ipynb>data table notebook</a>'\n",
              "          + ' to learn more about interactive tables.';\n",
              "        element.innerHTML = '';\n",
              "        dataTable['output_type'] = 'display_data';\n",
              "        await google.colab.output.renderOutput(dataTable, element);\n",
              "        const docLink = document.createElement('div');\n",
              "        docLink.innerHTML = docLinkHtml;\n",
              "        element.appendChild(docLink);\n",
              "      }\n",
              "    </script>\n",
              "  </div>\n",
              "\n",
              "\n",
              "<div id=\"df-cbcf6779-a87e-428f-91f4-f8a1478d6038\">\n",
              "  <button class=\"colab-df-quickchart\" onclick=\"quickchart('df-cbcf6779-a87e-428f-91f4-f8a1478d6038')\"\n",
              "            title=\"Suggest charts\"\n",
              "            style=\"display:none;\">\n",
              "\n",
              "<svg xmlns=\"http://www.w3.org/2000/svg\" height=\"24px\"viewBox=\"0 0 24 24\"\n",
              "     width=\"24px\">\n",
              "    <g>\n",
              "        <path d=\"M19 3H5c-1.1 0-2 .9-2 2v14c0 1.1.9 2 2 2h14c1.1 0 2-.9 2-2V5c0-1.1-.9-2-2-2zM9 17H7v-7h2v7zm4 0h-2V7h2v10zm4 0h-2v-4h2v4z\"/>\n",
              "    </g>\n",
              "</svg>\n",
              "  </button>\n",
              "\n",
              "<style>\n",
              "  .colab-df-quickchart {\n",
              "      --bg-color: #E8F0FE;\n",
              "      --fill-color: #1967D2;\n",
              "      --hover-bg-color: #E2EBFA;\n",
              "      --hover-fill-color: #174EA6;\n",
              "      --disabled-fill-color: #AAA;\n",
              "      --disabled-bg-color: #DDD;\n",
              "  }\n",
              "\n",
              "  [theme=dark] .colab-df-quickchart {\n",
              "      --bg-color: #3B4455;\n",
              "      --fill-color: #D2E3FC;\n",
              "      --hover-bg-color: #434B5C;\n",
              "      --hover-fill-color: #FFFFFF;\n",
              "      --disabled-bg-color: #3B4455;\n",
              "      --disabled-fill-color: #666;\n",
              "  }\n",
              "\n",
              "  .colab-df-quickchart {\n",
              "    background-color: var(--bg-color);\n",
              "    border: none;\n",
              "    border-radius: 50%;\n",
              "    cursor: pointer;\n",
              "    display: none;\n",
              "    fill: var(--fill-color);\n",
              "    height: 32px;\n",
              "    padding: 0;\n",
              "    width: 32px;\n",
              "  }\n",
              "\n",
              "  .colab-df-quickchart:hover {\n",
              "    background-color: var(--hover-bg-color);\n",
              "    box-shadow: 0 1px 2px rgba(60, 64, 67, 0.3), 0 1px 3px 1px rgba(60, 64, 67, 0.15);\n",
              "    fill: var(--button-hover-fill-color);\n",
              "  }\n",
              "\n",
              "  .colab-df-quickchart-complete:disabled,\n",
              "  .colab-df-quickchart-complete:disabled:hover {\n",
              "    background-color: var(--disabled-bg-color);\n",
              "    fill: var(--disabled-fill-color);\n",
              "    box-shadow: none;\n",
              "  }\n",
              "\n",
              "  .colab-df-spinner {\n",
              "    border: 2px solid var(--fill-color);\n",
              "    border-color: transparent;\n",
              "    border-bottom-color: var(--fill-color);\n",
              "    animation:\n",
              "      spin 1s steps(1) infinite;\n",
              "  }\n",
              "\n",
              "  @keyframes spin {\n",
              "    0% {\n",
              "      border-color: transparent;\n",
              "      border-bottom-color: var(--fill-color);\n",
              "      border-left-color: var(--fill-color);\n",
              "    }\n",
              "    20% {\n",
              "      border-color: transparent;\n",
              "      border-left-color: var(--fill-color);\n",
              "      border-top-color: var(--fill-color);\n",
              "    }\n",
              "    30% {\n",
              "      border-color: transparent;\n",
              "      border-left-color: var(--fill-color);\n",
              "      border-top-color: var(--fill-color);\n",
              "      border-right-color: var(--fill-color);\n",
              "    }\n",
              "    40% {\n",
              "      border-color: transparent;\n",
              "      border-right-color: var(--fill-color);\n",
              "      border-top-color: var(--fill-color);\n",
              "    }\n",
              "    60% {\n",
              "      border-color: transparent;\n",
              "      border-right-color: var(--fill-color);\n",
              "    }\n",
              "    80% {\n",
              "      border-color: transparent;\n",
              "      border-right-color: var(--fill-color);\n",
              "      border-bottom-color: var(--fill-color);\n",
              "    }\n",
              "    90% {\n",
              "      border-color: transparent;\n",
              "      border-bottom-color: var(--fill-color);\n",
              "    }\n",
              "  }\n",
              "</style>\n",
              "\n",
              "  <script>\n",
              "    async function quickchart(key) {\n",
              "      const quickchartButtonEl =\n",
              "        document.querySelector('#' + key + ' button');\n",
              "      quickchartButtonEl.disabled = true;  // To prevent multiple clicks.\n",
              "      quickchartButtonEl.classList.add('colab-df-spinner');\n",
              "      try {\n",
              "        const charts = await google.colab.kernel.invokeFunction(\n",
              "            'suggestCharts', [key], {});\n",
              "      } catch (error) {\n",
              "        console.error('Error during call to suggestCharts:', error);\n",
              "      }\n",
              "      quickchartButtonEl.classList.remove('colab-df-spinner');\n",
              "      quickchartButtonEl.classList.add('colab-df-quickchart-complete');\n",
              "    }\n",
              "    (() => {\n",
              "      let quickchartButtonEl =\n",
              "        document.querySelector('#df-cbcf6779-a87e-428f-91f4-f8a1478d6038 button');\n",
              "      quickchartButtonEl.style.display =\n",
              "        google.colab.kernel.accessAllowed ? 'block' : 'none';\n",
              "    })();\n",
              "  </script>\n",
              "</div>\n",
              "\n",
              "    </div>\n",
              "  </div>\n"
            ],
            "application/vnd.google.colaboratory.intrinsic+json": {
              "type": "dataframe",
              "summary": "{\n  \"name\": \"train_data[:10]\",\n  \"rows\": 10,\n  \"fields\": [\n    {\n      \"column\": \"Sentiment_L\",\n      \"properties\": {\n        \"dtype\": \"string\",\n        \"num_unique_values\": 5,\n        \"samples\": [\n          \"\\ubd88\\uc548\",\n          \"\\ubd84\\ub178\",\n          \"\\ub2f9\\ud669\"\n        ],\n        \"semantic_type\": \"\",\n        \"description\": \"\"\n      }\n    },\n    {\n      \"column\": \"Sentiment_S\",\n      \"properties\": {\n        \"dtype\": \"string\",\n        \"num_unique_values\": 9,\n        \"samples\": [\n          \"\\uc88c\\uc808\\ud55c\",\n          \"\\uc2a4\\ud2b8\\ub808\\uc2a4 \\ubc1b\\ub294\",\n          \"\\uc6b0\\uc6b8\\ud55c\"\n        ],\n        \"semantic_type\": \"\",\n        \"description\": \"\"\n      }\n    },\n    {\n      \"column\": \"Text\",\n      \"properties\": {\n        \"dtype\": \"string\",\n        \"num_unique_values\": 10,\n        \"samples\": [\n          \"\\uce5c\\uad6c\\ub4e4\\uc774 \\ub098\\ub97c \\uad34\\ub86d\\ud600 \\ubd80\\ubaa8\\ub2d8\\uacfc \\uc120\\uc0dd\\ub2d8\\uaed8 \\uc598\\uae30\\ud588\\ub294\\ub370\\ub3c4 \\ubbff\\uc5b4\\uc8fc\\uc9c0 \\uc54a\\uc544\",\n          \"\\ub2f9\\ub1e8\\ub791 \\ud569\\ubcd1\\uc99d \\ub54c\\ubb38\\uc5d0 \\uba39\\uc5b4\\uc57c \\ud560 \\uc57d\\uc774 \\uc5f4 \\uac00\\uc9c0\\uac00 \\ub118\\uc5b4\\uac00\\ub2c8\\uae4c \\uc2a4\\ud2b8\\ub808\\uc2a4\\uc57c\",\n          \"\\uc774\\uc81c \\uace7 \\uc740\\ud1f4\\ud560 \\uc2dc\\uae30\\uac00 \\ub418\\uc5c8\\uc5b4 \\ub0b4\\uac00 \\uba3c\\uc800 \\uc740\\ud1f4\\ub97c \\ud558\\uace0 \\uc721 \\uac1c\\uc6d4 \\ud6c4\\uc5d0 \\ub0a8\\ud3b8\\ub3c4 \\uc740\\ud1f4\\ub97c \\ud558\\uace0 \\uadf8\\ub7ec\\uba74 \\ub458\\uc774 \\ud558\\ub8e8 \\uc885\\uc77c \\ud568\\uaed8 \\uc788\\uaca0\\ub124 \\uc0dd\\uac01\\ub9cc \\ud574\\ub3c4 \\uc228\\uc774 \\ub9c9\\ud600\"\n        ],\n        \"semantic_type\": \"\",\n        \"description\": \"\"\n      }\n    }\n  ]\n}"
            }
          },
          "metadata": {},
          "execution_count": 83
        }
      ],
      "source": [
        "train_data['Text'] = train_data['Text'].str.replace(\"[^ㄱ-ㅎㅏ-ㅣ가-힣 ]\", \"\", regex=True)\n",
        "train_data[:10]"
      ]
    },
    {
      "cell_type": "code",
      "source": [
        "train_data['label'] = np.where(train_data.Sentiment_L ==\"기쁨\", 1,\n",
        "         (np.where((train_data.Sentiment_L == \"당황\") |\n",
        "                   (train_data.Sentiment_S == \"걱정스러운\") |\n",
        "                   (train_data.Sentiment_S == \"고립된\") |\n",
        "                   (train_data.Sentiment_S == \"조심스러운\"),\n",
        "                   0.5, 0)))\n",
        "test_data['label'] = np.where(test_data.Sentiment_L ==\"기쁨\", 1,\n",
        "         (np.where((test_data.Sentiment_L == \"당황\") |\n",
        "                   (test_data.Sentiment_S == \"걱정스러운\") |\n",
        "                   (test_data.Sentiment_S == \"고립된\") |\n",
        "                   (test_data.Sentiment_S == \"조심스러운\"),\n",
        "                   0.5, 0)))\n",
        "\n",
        "train_data[:10]\n",
        "#test_data[:10]"
      ],
      "metadata": {
        "id": "W784F_hxmeix",
        "colab": {
          "base_uri": "https://localhost:8080/",
          "height": 363
        },
        "outputId": "0e8dfae7-0fcc-4a1e-e443-2859481614bb"
      },
      "execution_count": 84,
      "outputs": [
        {
          "output_type": "execute_result",
          "data": {
            "text/plain": [
              "  Sentiment_L Sentiment_S                                               Text  \\\n",
              "0          기쁨        신이 난                           아내가 드디어 출산하게 되어서 정말 신이 나   \n",
              "1          불안     스트레스 받는             당뇨랑 합병증 때문에 먹어야 할 약이 열 가지가 넘어가니까 스트레스야   \n",
              "2          당황          당황             고등학교에 올라오니 중학교 때보다 수업이 갑자기 어려워져서 당황스러워   \n",
              "3          기쁨        신이 난        재취업이 돼서 받게 된 첫 월급으로 온 가족이 외식을 할 예정이야 너무 행복해   \n",
              "4          기쁨          안도                        빚을 드디어 다 갚게 되어서 이제야 안도감이 들어   \n",
              "5          불안         취약한  이제 곧 은퇴할 시기가 되었어 내가 먼저 은퇴를 하고 육 개월 후에 남편도 은퇴를 ...   \n",
              "6          슬픔         우울한                       사십 대에 접어들면서 머리카락이 많이 빠져 고민이야   \n",
              "7          분노      구역질 나는                                      이제 돈이라면 지긋지긋해   \n",
              "8          분노         좌절한               친구들이 나를 괴롭혀 부모님과 선생님께 얘기했는데도 믿어주지 않아   \n",
              "9          슬픔      눈물이 나는                                        친구 때문에 눈물 나   \n",
              "\n",
              "   label  \n",
              "0    1.0  \n",
              "1    0.0  \n",
              "2    0.5  \n",
              "3    1.0  \n",
              "4    1.0  \n",
              "5    0.0  \n",
              "6    0.0  \n",
              "7    0.0  \n",
              "8    0.0  \n",
              "9    0.0  "
            ],
            "text/html": [
              "\n",
              "  <div id=\"df-ec70c637-0642-47b1-b54c-4a137e218589\" class=\"colab-df-container\">\n",
              "    <div>\n",
              "<style scoped>\n",
              "    .dataframe tbody tr th:only-of-type {\n",
              "        vertical-align: middle;\n",
              "    }\n",
              "\n",
              "    .dataframe tbody tr th {\n",
              "        vertical-align: top;\n",
              "    }\n",
              "\n",
              "    .dataframe thead th {\n",
              "        text-align: right;\n",
              "    }\n",
              "</style>\n",
              "<table border=\"1\" class=\"dataframe\">\n",
              "  <thead>\n",
              "    <tr style=\"text-align: right;\">\n",
              "      <th></th>\n",
              "      <th>Sentiment_L</th>\n",
              "      <th>Sentiment_S</th>\n",
              "      <th>Text</th>\n",
              "      <th>label</th>\n",
              "    </tr>\n",
              "  </thead>\n",
              "  <tbody>\n",
              "    <tr>\n",
              "      <th>0</th>\n",
              "      <td>기쁨</td>\n",
              "      <td>신이 난</td>\n",
              "      <td>아내가 드디어 출산하게 되어서 정말 신이 나</td>\n",
              "      <td>1.0</td>\n",
              "    </tr>\n",
              "    <tr>\n",
              "      <th>1</th>\n",
              "      <td>불안</td>\n",
              "      <td>스트레스 받는</td>\n",
              "      <td>당뇨랑 합병증 때문에 먹어야 할 약이 열 가지가 넘어가니까 스트레스야</td>\n",
              "      <td>0.0</td>\n",
              "    </tr>\n",
              "    <tr>\n",
              "      <th>2</th>\n",
              "      <td>당황</td>\n",
              "      <td>당황</td>\n",
              "      <td>고등학교에 올라오니 중학교 때보다 수업이 갑자기 어려워져서 당황스러워</td>\n",
              "      <td>0.5</td>\n",
              "    </tr>\n",
              "    <tr>\n",
              "      <th>3</th>\n",
              "      <td>기쁨</td>\n",
              "      <td>신이 난</td>\n",
              "      <td>재취업이 돼서 받게 된 첫 월급으로 온 가족이 외식을 할 예정이야 너무 행복해</td>\n",
              "      <td>1.0</td>\n",
              "    </tr>\n",
              "    <tr>\n",
              "      <th>4</th>\n",
              "      <td>기쁨</td>\n",
              "      <td>안도</td>\n",
              "      <td>빚을 드디어 다 갚게 되어서 이제야 안도감이 들어</td>\n",
              "      <td>1.0</td>\n",
              "    </tr>\n",
              "    <tr>\n",
              "      <th>5</th>\n",
              "      <td>불안</td>\n",
              "      <td>취약한</td>\n",
              "      <td>이제 곧 은퇴할 시기가 되었어 내가 먼저 은퇴를 하고 육 개월 후에 남편도 은퇴를 ...</td>\n",
              "      <td>0.0</td>\n",
              "    </tr>\n",
              "    <tr>\n",
              "      <th>6</th>\n",
              "      <td>슬픔</td>\n",
              "      <td>우울한</td>\n",
              "      <td>사십 대에 접어들면서 머리카락이 많이 빠져 고민이야</td>\n",
              "      <td>0.0</td>\n",
              "    </tr>\n",
              "    <tr>\n",
              "      <th>7</th>\n",
              "      <td>분노</td>\n",
              "      <td>구역질 나는</td>\n",
              "      <td>이제 돈이라면 지긋지긋해</td>\n",
              "      <td>0.0</td>\n",
              "    </tr>\n",
              "    <tr>\n",
              "      <th>8</th>\n",
              "      <td>분노</td>\n",
              "      <td>좌절한</td>\n",
              "      <td>친구들이 나를 괴롭혀 부모님과 선생님께 얘기했는데도 믿어주지 않아</td>\n",
              "      <td>0.0</td>\n",
              "    </tr>\n",
              "    <tr>\n",
              "      <th>9</th>\n",
              "      <td>슬픔</td>\n",
              "      <td>눈물이 나는</td>\n",
              "      <td>친구 때문에 눈물 나</td>\n",
              "      <td>0.0</td>\n",
              "    </tr>\n",
              "  </tbody>\n",
              "</table>\n",
              "</div>\n",
              "    <div class=\"colab-df-buttons\">\n",
              "\n",
              "  <div class=\"colab-df-container\">\n",
              "    <button class=\"colab-df-convert\" onclick=\"convertToInteractive('df-ec70c637-0642-47b1-b54c-4a137e218589')\"\n",
              "            title=\"Convert this dataframe to an interactive table.\"\n",
              "            style=\"display:none;\">\n",
              "\n",
              "  <svg xmlns=\"http://www.w3.org/2000/svg\" height=\"24px\" viewBox=\"0 -960 960 960\">\n",
              "    <path d=\"M120-120v-720h720v720H120Zm60-500h600v-160H180v160Zm220 220h160v-160H400v160Zm0 220h160v-160H400v160ZM180-400h160v-160H180v160Zm440 0h160v-160H620v160ZM180-180h160v-160H180v160Zm440 0h160v-160H620v160Z\"/>\n",
              "  </svg>\n",
              "    </button>\n",
              "\n",
              "  <style>\n",
              "    .colab-df-container {\n",
              "      display:flex;\n",
              "      gap: 12px;\n",
              "    }\n",
              "\n",
              "    .colab-df-convert {\n",
              "      background-color: #E8F0FE;\n",
              "      border: none;\n",
              "      border-radius: 50%;\n",
              "      cursor: pointer;\n",
              "      display: none;\n",
              "      fill: #1967D2;\n",
              "      height: 32px;\n",
              "      padding: 0 0 0 0;\n",
              "      width: 32px;\n",
              "    }\n",
              "\n",
              "    .colab-df-convert:hover {\n",
              "      background-color: #E2EBFA;\n",
              "      box-shadow: 0px 1px 2px rgba(60, 64, 67, 0.3), 0px 1px 3px 1px rgba(60, 64, 67, 0.15);\n",
              "      fill: #174EA6;\n",
              "    }\n",
              "\n",
              "    .colab-df-buttons div {\n",
              "      margin-bottom: 4px;\n",
              "    }\n",
              "\n",
              "    [theme=dark] .colab-df-convert {\n",
              "      background-color: #3B4455;\n",
              "      fill: #D2E3FC;\n",
              "    }\n",
              "\n",
              "    [theme=dark] .colab-df-convert:hover {\n",
              "      background-color: #434B5C;\n",
              "      box-shadow: 0px 1px 3px 1px rgba(0, 0, 0, 0.15);\n",
              "      filter: drop-shadow(0px 1px 2px rgba(0, 0, 0, 0.3));\n",
              "      fill: #FFFFFF;\n",
              "    }\n",
              "  </style>\n",
              "\n",
              "    <script>\n",
              "      const buttonEl =\n",
              "        document.querySelector('#df-ec70c637-0642-47b1-b54c-4a137e218589 button.colab-df-convert');\n",
              "      buttonEl.style.display =\n",
              "        google.colab.kernel.accessAllowed ? 'block' : 'none';\n",
              "\n",
              "      async function convertToInteractive(key) {\n",
              "        const element = document.querySelector('#df-ec70c637-0642-47b1-b54c-4a137e218589');\n",
              "        const dataTable =\n",
              "          await google.colab.kernel.invokeFunction('convertToInteractive',\n",
              "                                                    [key], {});\n",
              "        if (!dataTable) return;\n",
              "\n",
              "        const docLinkHtml = 'Like what you see? Visit the ' +\n",
              "          '<a target=\"_blank\" href=https://colab.research.google.com/notebooks/data_table.ipynb>data table notebook</a>'\n",
              "          + ' to learn more about interactive tables.';\n",
              "        element.innerHTML = '';\n",
              "        dataTable['output_type'] = 'display_data';\n",
              "        await google.colab.output.renderOutput(dataTable, element);\n",
              "        const docLink = document.createElement('div');\n",
              "        docLink.innerHTML = docLinkHtml;\n",
              "        element.appendChild(docLink);\n",
              "      }\n",
              "    </script>\n",
              "  </div>\n",
              "\n",
              "\n",
              "<div id=\"df-16094ecf-16d5-4fe9-b851-162ad6b30c29\">\n",
              "  <button class=\"colab-df-quickchart\" onclick=\"quickchart('df-16094ecf-16d5-4fe9-b851-162ad6b30c29')\"\n",
              "            title=\"Suggest charts\"\n",
              "            style=\"display:none;\">\n",
              "\n",
              "<svg xmlns=\"http://www.w3.org/2000/svg\" height=\"24px\"viewBox=\"0 0 24 24\"\n",
              "     width=\"24px\">\n",
              "    <g>\n",
              "        <path d=\"M19 3H5c-1.1 0-2 .9-2 2v14c0 1.1.9 2 2 2h14c1.1 0 2-.9 2-2V5c0-1.1-.9-2-2-2zM9 17H7v-7h2v7zm4 0h-2V7h2v10zm4 0h-2v-4h2v4z\"/>\n",
              "    </g>\n",
              "</svg>\n",
              "  </button>\n",
              "\n",
              "<style>\n",
              "  .colab-df-quickchart {\n",
              "      --bg-color: #E8F0FE;\n",
              "      --fill-color: #1967D2;\n",
              "      --hover-bg-color: #E2EBFA;\n",
              "      --hover-fill-color: #174EA6;\n",
              "      --disabled-fill-color: #AAA;\n",
              "      --disabled-bg-color: #DDD;\n",
              "  }\n",
              "\n",
              "  [theme=dark] .colab-df-quickchart {\n",
              "      --bg-color: #3B4455;\n",
              "      --fill-color: #D2E3FC;\n",
              "      --hover-bg-color: #434B5C;\n",
              "      --hover-fill-color: #FFFFFF;\n",
              "      --disabled-bg-color: #3B4455;\n",
              "      --disabled-fill-color: #666;\n",
              "  }\n",
              "\n",
              "  .colab-df-quickchart {\n",
              "    background-color: var(--bg-color);\n",
              "    border: none;\n",
              "    border-radius: 50%;\n",
              "    cursor: pointer;\n",
              "    display: none;\n",
              "    fill: var(--fill-color);\n",
              "    height: 32px;\n",
              "    padding: 0;\n",
              "    width: 32px;\n",
              "  }\n",
              "\n",
              "  .colab-df-quickchart:hover {\n",
              "    background-color: var(--hover-bg-color);\n",
              "    box-shadow: 0 1px 2px rgba(60, 64, 67, 0.3), 0 1px 3px 1px rgba(60, 64, 67, 0.15);\n",
              "    fill: var(--button-hover-fill-color);\n",
              "  }\n",
              "\n",
              "  .colab-df-quickchart-complete:disabled,\n",
              "  .colab-df-quickchart-complete:disabled:hover {\n",
              "    background-color: var(--disabled-bg-color);\n",
              "    fill: var(--disabled-fill-color);\n",
              "    box-shadow: none;\n",
              "  }\n",
              "\n",
              "  .colab-df-spinner {\n",
              "    border: 2px solid var(--fill-color);\n",
              "    border-color: transparent;\n",
              "    border-bottom-color: var(--fill-color);\n",
              "    animation:\n",
              "      spin 1s steps(1) infinite;\n",
              "  }\n",
              "\n",
              "  @keyframes spin {\n",
              "    0% {\n",
              "      border-color: transparent;\n",
              "      border-bottom-color: var(--fill-color);\n",
              "      border-left-color: var(--fill-color);\n",
              "    }\n",
              "    20% {\n",
              "      border-color: transparent;\n",
              "      border-left-color: var(--fill-color);\n",
              "      border-top-color: var(--fill-color);\n",
              "    }\n",
              "    30% {\n",
              "      border-color: transparent;\n",
              "      border-left-color: var(--fill-color);\n",
              "      border-top-color: var(--fill-color);\n",
              "      border-right-color: var(--fill-color);\n",
              "    }\n",
              "    40% {\n",
              "      border-color: transparent;\n",
              "      border-right-color: var(--fill-color);\n",
              "      border-top-color: var(--fill-color);\n",
              "    }\n",
              "    60% {\n",
              "      border-color: transparent;\n",
              "      border-right-color: var(--fill-color);\n",
              "    }\n",
              "    80% {\n",
              "      border-color: transparent;\n",
              "      border-right-color: var(--fill-color);\n",
              "      border-bottom-color: var(--fill-color);\n",
              "    }\n",
              "    90% {\n",
              "      border-color: transparent;\n",
              "      border-bottom-color: var(--fill-color);\n",
              "    }\n",
              "  }\n",
              "</style>\n",
              "\n",
              "  <script>\n",
              "    async function quickchart(key) {\n",
              "      const quickchartButtonEl =\n",
              "        document.querySelector('#' + key + ' button');\n",
              "      quickchartButtonEl.disabled = true;  // To prevent multiple clicks.\n",
              "      quickchartButtonEl.classList.add('colab-df-spinner');\n",
              "      try {\n",
              "        const charts = await google.colab.kernel.invokeFunction(\n",
              "            'suggestCharts', [key], {});\n",
              "      } catch (error) {\n",
              "        console.error('Error during call to suggestCharts:', error);\n",
              "      }\n",
              "      quickchartButtonEl.classList.remove('colab-df-spinner');\n",
              "      quickchartButtonEl.classList.add('colab-df-quickchart-complete');\n",
              "    }\n",
              "    (() => {\n",
              "      let quickchartButtonEl =\n",
              "        document.querySelector('#df-16094ecf-16d5-4fe9-b851-162ad6b30c29 button');\n",
              "      quickchartButtonEl.style.display =\n",
              "        google.colab.kernel.accessAllowed ? 'block' : 'none';\n",
              "    })();\n",
              "  </script>\n",
              "</div>\n",
              "\n",
              "    </div>\n",
              "  </div>\n"
            ],
            "application/vnd.google.colaboratory.intrinsic+json": {
              "type": "dataframe",
              "summary": "{\n  \"name\": \"#test_data[:10]\",\n  \"rows\": 10,\n  \"fields\": [\n    {\n      \"column\": \"Sentiment_L\",\n      \"properties\": {\n        \"dtype\": \"string\",\n        \"num_unique_values\": 5,\n        \"samples\": [\n          \"\\ubd88\\uc548\",\n          \"\\ubd84\\ub178\",\n          \"\\ub2f9\\ud669\"\n        ],\n        \"semantic_type\": \"\",\n        \"description\": \"\"\n      }\n    },\n    {\n      \"column\": \"Sentiment_S\",\n      \"properties\": {\n        \"dtype\": \"string\",\n        \"num_unique_values\": 9,\n        \"samples\": [\n          \"\\uc88c\\uc808\\ud55c\",\n          \"\\uc2a4\\ud2b8\\ub808\\uc2a4 \\ubc1b\\ub294\",\n          \"\\uc6b0\\uc6b8\\ud55c\"\n        ],\n        \"semantic_type\": \"\",\n        \"description\": \"\"\n      }\n    },\n    {\n      \"column\": \"Text\",\n      \"properties\": {\n        \"dtype\": \"string\",\n        \"num_unique_values\": 10,\n        \"samples\": [\n          \"\\uce5c\\uad6c\\ub4e4\\uc774 \\ub098\\ub97c \\uad34\\ub86d\\ud600 \\ubd80\\ubaa8\\ub2d8\\uacfc \\uc120\\uc0dd\\ub2d8\\uaed8 \\uc598\\uae30\\ud588\\ub294\\ub370\\ub3c4 \\ubbff\\uc5b4\\uc8fc\\uc9c0 \\uc54a\\uc544\",\n          \"\\ub2f9\\ub1e8\\ub791 \\ud569\\ubcd1\\uc99d \\ub54c\\ubb38\\uc5d0 \\uba39\\uc5b4\\uc57c \\ud560 \\uc57d\\uc774 \\uc5f4 \\uac00\\uc9c0\\uac00 \\ub118\\uc5b4\\uac00\\ub2c8\\uae4c \\uc2a4\\ud2b8\\ub808\\uc2a4\\uc57c\",\n          \"\\uc774\\uc81c \\uace7 \\uc740\\ud1f4\\ud560 \\uc2dc\\uae30\\uac00 \\ub418\\uc5c8\\uc5b4 \\ub0b4\\uac00 \\uba3c\\uc800 \\uc740\\ud1f4\\ub97c \\ud558\\uace0 \\uc721 \\uac1c\\uc6d4 \\ud6c4\\uc5d0 \\ub0a8\\ud3b8\\ub3c4 \\uc740\\ud1f4\\ub97c \\ud558\\uace0 \\uadf8\\ub7ec\\uba74 \\ub458\\uc774 \\ud558\\ub8e8 \\uc885\\uc77c \\ud568\\uaed8 \\uc788\\uaca0\\ub124 \\uc0dd\\uac01\\ub9cc \\ud574\\ub3c4 \\uc228\\uc774 \\ub9c9\\ud600\"\n        ],\n        \"semantic_type\": \"\",\n        \"description\": \"\"\n      }\n    },\n    {\n      \"column\": \"label\",\n      \"properties\": {\n        \"dtype\": \"number\",\n        \"std\": 0.47434164902525694,\n        \"min\": 0.0,\n        \"max\": 1.0,\n        \"num_unique_values\": 3,\n        \"samples\": [\n          1.0,\n          0.0,\n          0.5\n        ],\n        \"semantic_type\": \"\",\n        \"description\": \"\"\n      }\n    }\n  ]\n}"
            }
          },
          "metadata": {},
          "execution_count": 84
        }
      ]
    },
    {
      "cell_type": "code",
      "execution_count": 85,
      "metadata": {
        "id": "Pq8I9Ci6XLnT",
        "colab": {
          "base_uri": "https://localhost:8080/"
        },
        "outputId": "afabd11e-cd49-495c-8bfd-89e2b7cd9ddd"
      },
      "outputs": [
        {
          "output_type": "stream",
          "name": "stdout",
          "text": [
            "39314\n",
            "Sentiment_L    0\n",
            "Sentiment_S    0\n",
            "Text           0\n",
            "label          0\n",
            "dtype: int64\n"
          ]
        }
      ],
      "source": [
        "train_data['Text'] = train_data['Text'].replace('', np.nan)\n",
        "print(len(train_data))\n",
        "print(train_data.isnull().sum())"
      ]
    },
    {
      "cell_type": "code",
      "execution_count": 86,
      "metadata": {
        "id": "RDIIbmrFaiTb",
        "colab": {
          "base_uri": "https://localhost:8080/"
        },
        "outputId": "38706fa8-d5bb-4140-f51f-46013e287a43"
      },
      "outputs": [
        {
          "output_type": "stream",
          "name": "stdout",
          "text": [
            "39314\n"
          ]
        }
      ],
      "source": [
        "train_data = train_data.dropna(how=\"any\")\n",
        "print(len(train_data))"
      ]
    },
    {
      "cell_type": "markdown",
      "source": [
        "## 레이블의 분포 확인"
      ],
      "metadata": {
        "id": "d3oMd18BqpHH"
      }
    },
    {
      "cell_type": "code",
      "source": [
        "train_data['label'].value_counts().plot(kind = 'bar')"
      ],
      "metadata": {
        "id": "Iflfdmi0qrXI",
        "colab": {
          "base_uri": "https://localhost:8080/",
          "height": 468
        },
        "outputId": "8e0b26a9-2301-409b-f3d8-3ab91d29d45d"
      },
      "execution_count": 122,
      "outputs": [
        {
          "output_type": "execute_result",
          "data": {
            "text/plain": [
              "<Axes: xlabel='label'>"
            ]
          },
          "metadata": {},
          "execution_count": 122
        },
        {
          "output_type": "display_data",
          "data": {
            "text/plain": [
              "<Figure size 640x480 with 1 Axes>"
            ],
            "image/png": "[encoded data removed]"
          },
          "metadata": {}
        }
      ]
    },
    {
      "cell_type": "code",
      "source": [
        "test_data.drop_duplicates(subset=['Text'], inplace=True)\n",
        "test_data['Text'] = test_data['Text'].str.replace(\"[^ㄱ-ㅎㅏ-ㅣ가-힣 ]\", \"\")\n",
        "test_data['Text'] = test_data['Text'].replace('', np.nan)\n",
        "test_data = test_data.dropna(how='any')\n",
        "# test_data[:10]"
      ],
      "metadata": {
        "id": "gaYRp5IODquE",
        "collapsed": true
      },
      "execution_count": 88,
      "outputs": []
    },
    {
      "cell_type": "markdown",
      "metadata": {
        "id": "8RdQw7fHa6u1"
      },
      "source": [
        "## 토큰화 및 불용어 제거"
      ]
    },
    {
      "cell_type": "markdown",
      "metadata": {
        "id": "3-7CDYy9bG8-"
      },
      "source": [
        "불용어: ['의','가','이','은','들','는','좀','잘','걍','과','도','를','으로','자','에','와','한','하다','하','게','되','어서','때문','니까','어야','랑','야']"
      ]
    },
    {
      "cell_type": "code",
      "execution_count": 89,
      "metadata": {
        "id": "cVg7dl9wa-O8"
      },
      "outputs": [],
      "source": [
        "stopwords = ['의','가','이','은','들','는','좀','잘','걍','과','도','를','으로','자','에','와','한','하다','하','게','되','어서','때문','니까','어야','랑','야']"
      ]
    },
    {
      "cell_type": "code",
      "execution_count": 215,
      "metadata": {
        "id": "XQ-CV2xlbdvB",
        "collapsed": true
      },
      "outputs": [],
      "source": [
        "mecab = Mecab()\n",
        "\n",
        "X_train = []\n",
        "for sentence in train_data['Text']:\n",
        "  X_train.append([word for word in mecab.morphs(sentence) if not word in stopwords])"
      ]
    },
    {
      "cell_type": "code",
      "execution_count": 216,
      "metadata": {
        "id": "MwBg4FQubpAI",
        "colab": {
          "base_uri": "https://localhost:8080/"
        },
        "outputId": "64d9a704-8215-4353-b204-f1d5c59daac9"
      },
      "outputs": [
        {
          "output_type": "stream",
          "name": "stdout",
          "text": [
            "[['아내', '드디어', '출산', '정말', '신', '나'], ['당뇨', '합병증', '먹', '할', '약', '열', '가지', '넘어가', '스트레스']]\n"
          ]
        }
      ],
      "source": [
        "print(X_train[:2])"
      ]
    },
    {
      "cell_type": "code",
      "execution_count": 217,
      "metadata": {
        "id": "18b57zUACtv8"
      },
      "outputs": [],
      "source": [
        "X_test = []\n",
        "for sentence in test_data['Text']:\n",
        "  X_test.append([word for word in mecab.morphs(sentence) if not word in stopwords])"
      ]
    },
    {
      "cell_type": "markdown",
      "metadata": {
        "id": "0cbCq2UoEWA5"
      },
      "source": [
        "## 빈도 수가 낮은 단어 제거\n",
        "*   빈도 수가 낮은 단어는 학습에 별로 영향을 주지 않음\n",
        "*   처리를 통해 빈도 수가 낮은 단어들은 제거"
      ]
    },
    {
      "cell_type": "code",
      "execution_count": 219,
      "metadata": {
        "id": "PE02fQW0EHWt",
        "collapsed": true
      },
      "outputs": [],
      "source": [
        "tokenizer = Tokenizer()\n",
        "tokenizer.fit_on_texts(X_train)"
      ]
    },
    {
      "cell_type": "code",
      "execution_count": 220,
      "metadata": {
        "id": "gxEnpvVMpcUJ",
        "colab": {
          "base_uri": "https://localhost:8080/"
        },
        "outputId": "8b2ab771-de52-4726-a06b-54cf06f27560"
      },
      "outputs": [
        {
          "output_type": "stream",
          "name": "stdout",
          "text": [
            "전체 단어 수:  12484\n",
            "빈도가 2 이하인 희귀 단어 수: 6270\n",
            "희귀 단어 비율: 50.224287087471964\n",
            "희귀 단어 등장 빈도 비율: 1.5978975965490934\n"
          ]
        }
      ],
      "source": [
        "threshold = 3\n",
        "words_cnt = len(tokenizer.word_index)\n",
        "rare_cnt = 0\n",
        "words_freq = 0\n",
        "rare_freq = 0\n",
        "\n",
        "for key, value in tokenizer.word_counts.items():\n",
        "  words_freq = words_freq + value\n",
        "\n",
        "  if value < threshold:\n",
        "    rare_cnt += 1\n",
        "    rare_freq = rare_freq + value\n",
        "\n",
        "print(\"전체 단어 수: \", words_cnt)\n",
        "print(\"빈도가 {} 이하인 희귀 단어 수: {}\".format(threshold-1, rare_cnt))\n",
        "print(\"희귀 단어 비율: {}\".format((rare_cnt / words_cnt)*100))\n",
        "print(\"희귀 단어 등장 빈도 비율: {}\".format((rare_freq / words_freq)*100))"
      ]
    },
    {
      "cell_type": "code",
      "execution_count": 221,
      "metadata": {
        "id": "YzYll-japerK",
        "colab": {
          "base_uri": "https://localhost:8080/"
        },
        "outputId": "c1c03661-5f98-42eb-d7de-3c3a53a37bc2"
      },
      "outputs": [
        {
          "output_type": "stream",
          "name": "stdout",
          "text": [
            "6216\n"
          ]
        }
      ],
      "source": [
        "vocab_size = words_cnt-rare_cnt+2\n",
        "print(vocab_size)"
      ]
    },
    {
      "cell_type": "code",
      "execution_count": 192,
      "metadata": {
        "id": "mVbi_UespgJf"
      },
      "outputs": [],
      "source": [
        "tokenizer = Tokenizer(vocab_size, oov_token='OOV')\n",
        "tokenizer.fit_on_texts(X_train)\n",
        "X_train = tokenizer.texts_to_sequences(X_train)\n",
        "X_test = tokenizer.texts_to_sequences(X_test)"
      ]
    },
    {
      "cell_type": "code",
      "execution_count": 193,
      "metadata": {
        "id": "9jxtlrwLHU00"
      },
      "outputs": [],
      "source": [
        "y_train = np.array(train_data['label'])\n",
        "y_test = np.array(test_data['label'])"
      ]
    },
    {
      "cell_type": "code",
      "execution_count": 194,
      "metadata": {
        "id": "5b0DH7_Kpkrp",
        "colab": {
          "base_uri": "https://localhost:8080/"
        },
        "outputId": "b735bf3d-3326-4875-f6d2-35fd8f916a4a",
        "collapsed": true
      },
      "outputs": [
        {
          "output_type": "stream",
          "name": "stdout",
          "text": [
            "39314\n",
            "39314\n"
          ]
        }
      ],
      "source": [
        "drop_train = [index for index, sentence in enumerate(X_train) if len(sentence) < 1]\n",
        "\n",
        "X_train = np.array(X_train, dtype=object)\n",
        "X_train = np.delete(X_train, drop_train, axis=0)\n",
        "y_train = np.delete(y_train, drop_train, axis=0)\n",
        "\n",
        "print(len(X_train))\n",
        "print(len(y_train))"
      ]
    },
    {
      "cell_type": "markdown",
      "metadata": {
        "id": "eLi6EFJNiaJX"
      },
      "source": [
        "## 패딩"
      ]
    },
    {
      "cell_type": "code",
      "execution_count": 195,
      "metadata": {
        "id": "CH6nqnKlibT4",
        "colab": {
          "base_uri": "https://localhost:8080/"
        },
        "outputId": "a1447b0f-fccf-46fb-fe08-65bed6254c35"
      },
      "outputs": [
        {
          "output_type": "stream",
          "name": "stdout",
          "text": [
            "Text 최대 길이:  64\n",
            "Text 평균 길이:  12.901994200539248\n"
          ]
        }
      ],
      "source": [
        "print('Text 최대 길이: ', max(len(l) for l in X_train))\n",
        "print('Text 평균 길이: ', sum(map(len, X_train))/len(X_train))"
      ]
    },
    {
      "cell_type": "code",
      "execution_count": 196,
      "metadata": {
        "id": "gwc16VzEitpl",
        "colab": {
          "base_uri": "https://localhost:8080/",
          "height": 445
        },
        "outputId": "c3cee3e8-8ef1-4f66-dcab-b99cf79a44ff"
      },
      "outputs": [
        {
          "output_type": "display_data",
          "data": {
            "text/plain": [
              "<Figure size 640x480 with 1 Axes>"
            ],
            "image/png": "[encoded data removed]"
          },
          "metadata": {}
        }
      ],
      "source": [
        "plt.hist([len(s) for s in X_train], bins=50)\n",
        "plt.xlabel('Length of Samples')\n",
        "plt.ylabel('Number of Samples')\n",
        "plt.show()"
      ]
    },
    {
      "cell_type": "code",
      "execution_count": 197,
      "metadata": {
        "id": "RjuihjpNjDs-"
      },
      "outputs": [],
      "source": [
        "max_len = 25"
      ]
    },
    {
      "cell_type": "code",
      "execution_count": 198,
      "metadata": {
        "id": "3w_bdNGfjFtx"
      },
      "outputs": [],
      "source": [
        "X_train = pad_sequences(X_train, maxlen=max_len)\n",
        "X_test = pad_sequences(X_test, maxlen=max_len)"
      ]
    },
    {
      "cell_type": "markdown",
      "metadata": {
        "id": "10ntvd_6-3-c"
      },
      "source": [
        "## 모델 학습"
      ]
    },
    {
      "cell_type": "code",
      "execution_count": 199,
      "metadata": {
        "id": "-omkCOMspr5L"
      },
      "outputs": [],
      "source": [
        "from tensorflow.keras.models import Sequential, load_model\n",
        "from tensorflow.keras.layers import Embedding, Dense, GRU\n",
        "from tensorflow.keras.callbacks import EarlyStopping, ModelCheckpoint"
      ]
    },
    {
      "cell_type": "code",
      "execution_count": 200,
      "metadata": {
        "id": "rXSmjqXGptdg"
      },
      "outputs": [],
      "source": [
        "model = Sequential()\n",
        "model.add(Embedding(vocab_size, 100))\n",
        "model.add(GRU(128))\n",
        "model.add(Dense(1, activation='relu'))"
      ]
    },
    {
      "cell_type": "code",
      "execution_count": 201,
      "metadata": {
        "id": "U2gPW8HbpudL"
      },
      "outputs": [],
      "source": [
        "es = EarlyStopping(monitor='val_loss', mode='min', verbose=1, patience=4)\n",
        "mc = ModelCheckpoint('best_model.keras', monitor='val_acc',mode='max', verbose=1,save_best_only=True)"
      ]
    },
    {
      "cell_type": "code",
      "execution_count": 202,
      "metadata": {
        "id": "BFl7GKMBbagV",
        "colab": {
          "base_uri": "https://localhost:8080/"
        },
        "outputId": "59fe2e07-7f98-440d-ae5d-b10a6fd5c9d2"
      },
      "outputs": [
        {
          "output_type": "stream",
          "name": "stdout",
          "text": [
            "Epoch 1/5\n",
            "\u001b[1m518/525\u001b[0m \u001b[32m━━━━━━━━━━━━━━━━━━━\u001b[0m\u001b[37m━\u001b[0m \u001b[1m0s\u001b[0m 5ms/step - acc: 0.6680 - loss: 0.5636\n",
            "Epoch 1: val_acc improved from -inf to 0.71131, saving model to best_model.keras\n",
            "\u001b[1m525/525\u001b[0m \u001b[32m━━━━━━━━━━━━━━━━━━━━\u001b[0m\u001b[37m\u001b[0m \u001b[1m5s\u001b[0m 7ms/step - acc: 0.6683 - loss: 0.5629 - val_acc: 0.7113 - val_loss: 0.6396\n",
            "Epoch 2/5\n",
            "\u001b[1m524/525\u001b[0m \u001b[32m━━━━━━━━━━━━━━━━━━━\u001b[0m\u001b[37m━\u001b[0m \u001b[1m0s\u001b[0m 6ms/step - acc: 0.7099 - loss: 0.4904\n",
            "Epoch 2: val_acc did not improve from 0.71131\n",
            "\u001b[1m525/525\u001b[0m \u001b[32m━━━━━━━━━━━━━━━━━━━━\u001b[0m\u001b[37m\u001b[0m \u001b[1m5s\u001b[0m 7ms/step - acc: 0.7099 - loss: 0.4903 - val_acc: 0.6985 - val_loss: 0.4870\n",
            "Epoch 3/5\n",
            "\u001b[1m523/525\u001b[0m \u001b[32m━━━━━━━━━━━━━━━━━━━\u001b[0m\u001b[37m━\u001b[0m \u001b[1m0s\u001b[0m 7ms/step - acc: 0.7182 - loss: 0.4363\n",
            "Epoch 3: val_acc improved from 0.71131 to 0.72415, saving model to best_model.keras\n",
            "\u001b[1m525/525\u001b[0m \u001b[32m━━━━━━━━━━━━━━━━━━━━\u001b[0m\u001b[37m\u001b[0m \u001b[1m4s\u001b[0m 9ms/step - acc: 0.7182 - loss: 0.4362 - val_acc: 0.7242 - val_loss: 0.4337\n",
            "Epoch 4/5\n",
            "\u001b[1m525/525\u001b[0m \u001b[32m━━━━━━━━━━━━━━━━━━━━\u001b[0m\u001b[37m\u001b[0m \u001b[1m0s\u001b[0m 6ms/step - acc: 0.7301 - loss: 0.4079\n",
            "Epoch 4: val_acc did not improve from 0.72415\n",
            "\u001b[1m525/525\u001b[0m \u001b[32m━━━━━━━━━━━━━━━━━━━━\u001b[0m\u001b[37m\u001b[0m \u001b[1m4s\u001b[0m 7ms/step - acc: 0.7301 - loss: 0.4079 - val_acc: 0.7222 - val_loss: 0.4238\n",
            "Epoch 5/5\n",
            "\u001b[1m521/525\u001b[0m \u001b[32m━━━━━━━━━━━━━━━━━━━\u001b[0m\u001b[37m━\u001b[0m \u001b[1m0s\u001b[0m 6ms/step - acc: 0.7392 - loss: 0.4015\n",
            "Epoch 5: val_acc improved from 0.72415 to 0.73242, saving model to best_model.keras\n",
            "\u001b[1m525/525\u001b[0m \u001b[32m━━━━━━━━━━━━━━━━━━━━\u001b[0m\u001b[37m\u001b[0m \u001b[1m5s\u001b[0m 7ms/step - acc: 0.7392 - loss: 0.4015 - val_acc: 0.7324 - val_loss: 0.4171\n"
          ]
        }
      ],
      "source": [
        "model.compile(optimizer='rmsprop', loss='binary_crossentropy',metrics=['acc'])\n",
        "history = model.fit(X_train, y_train, epochs=5, callbacks=[es,mc], batch_size=60, validation_split=0.2)"
      ]
    },
    {
      "cell_type": "code",
      "execution_count": 203,
      "metadata": {
        "id": "oZfU39MzcgqP",
        "colab": {
          "base_uri": "https://localhost:8080/"
        },
        "outputId": "b1c911d1-0cd8-40eb-f9db-b808d90fd7d2"
      },
      "outputs": [
        {
          "output_type": "stream",
          "name": "stdout",
          "text": [
            "\u001b[1m160/160\u001b[0m \u001b[32m━━━━━━━━━━━━━━━━━━━━\u001b[0m\u001b[37m\u001b[0m \u001b[1m1s\u001b[0m 4ms/step - acc: 0.7201 - loss: 0.4338\n"
          ]
        },
        {
          "output_type": "execute_result",
          "data": {
            "text/plain": [
              "[0.4205116331577301, 0.7213403582572937]"
            ]
          },
          "metadata": {},
          "execution_count": 203
        }
      ],
      "source": [
        "loaded_model=load_model('best_model.keras')\n",
        "loaded_model.evaluate(X_test, y_test)"
      ]
    },
    {
      "cell_type": "code",
      "execution_count": 204,
      "metadata": {
        "id": "z3DiNmrX46Tg",
        "colab": {
          "base_uri": "https://localhost:8080/",
          "height": 836
        },
        "outputId": "ed34e040-b944-464d-c1cf-b084f3316bfe"
      },
      "outputs": [
        {
          "output_type": "display_data",
          "data": {
            "text/plain": [
              "<Figure size 640x480 with 1 Axes>"
            ],
            "image/png": "[encoded data removed]"
          },
          "metadata": {}
        },
        {
          "output_type": "display_data",
          "data": {
            "text/plain": [
              "<Figure size 640x480 with 1 Axes>"
            ],
            "image/png": "[encoded data removed]"
          },
          "metadata": {}
        }
      ],
      "source": [
        "hist_dict = history.history\n",
        "loss = hist_dict['loss']\n",
        "val_loss = hist_dict['val_loss']\n",
        "acc = hist_dict['acc']\n",
        "val_acc = hist_dict['val_acc']\n",
        "\n",
        "plt.plot(loss, 'b--', label='training loss')\n",
        "plt.plot(val_loss, 'r:', label='validation loss')\n",
        "plt.legend()\n",
        "plt.grid()\n",
        "\n",
        "plt.figure()\n",
        "plt.plot(acc, 'b--', label='training accuracy')\n",
        "plt.plot(val_acc, 'r:', label='validation accuracy')\n",
        "plt.legend()\n",
        "plt.grid()\n",
        "\n",
        "plt.show()"
      ]
    },
    {
      "cell_type": "markdown",
      "metadata": {
        "id": "meMLxWOsnPLq"
      },
      "source": [
        "#감정예측"
      ]
    },
    {
      "cell_type": "code",
      "execution_count": 211,
      "metadata": {
        "id": "mPlB5S_TnQoD"
      },
      "outputs": [],
      "source": [
        "def sentiment_predict(new_sentence):\n",
        "  new_token = [word for word in mecab.morphs(new_sentence) if not word in stopwords]\n",
        "  new_sequences = tokenizer.texts_to_sequences([new_token])\n",
        "  new_pad = pad_sequences(new_sequences, maxlen = max_len)\n",
        "  score = float(loaded_model.predict(new_pad))\n",
        "\n",
        "  if score > 0.7:\n",
        "    print(\"{} -> 긍정({:.2f}%)\".format(new_sentence, score*100))\n",
        "  elif score < 0.3:\n",
        "    print(\"{} -> 부정({:.2f}%)\".format(new_sentence, (1-score)*100))\n",
        "  else :\n",
        "    print(\"{} -> 중립({:.2f}%)\".format(new_sentence, (1-score)*100))\n"
      ]
    },
    {
      "cell_type": "code",
      "execution_count": 212,
      "metadata": {
        "id": "E2vtVB3DnSLS",
        "colab": {
          "base_uri": "https://localhost:8080/"
        },
        "outputId": "aa24fc80-ae0f-4f64-98b1-2c13345403fc"
      },
      "outputs": [
        {
          "output_type": "stream",
          "name": "stdout",
          "text": [
            "\u001b[1m1/1\u001b[0m \u001b[32m━━━━━━━━━━━━━━━━━━━━\u001b[0m\u001b[37m\u001b[0m \u001b[1m0s\u001b[0m 22ms/step\n",
            "나는 과일을 좋아해 -> 중립(69.96%)\n",
            "\u001b[1m1/1\u001b[0m \u001b[32m━━━━━━━━━━━━━━━━━━━━\u001b[0m\u001b[37m\u001b[0m \u001b[1m0s\u001b[0m 18ms/step\n",
            "엄마가 결국 집을 나갔어. 너무 너무 슬퍼. -> 부정(89.01%)\n",
            "\u001b[1m1/1\u001b[0m \u001b[32m━━━━━━━━━━━━━━━━━━━━\u001b[0m\u001b[37m\u001b[0m \u001b[1m0s\u001b[0m 17ms/step\n",
            "좋아하는 선배에게 어제 고백을 받았어! -> 중립(40.32%)\n",
            "\u001b[1m1/1\u001b[0m \u001b[32m━━━━━━━━━━━━━━━━━━━━\u001b[0m\u001b[37m\u001b[0m \u001b[1m0s\u001b[0m 18ms/step\n",
            "오늘 반장 선거에서 내가 반장이 됐어! 친구들이 날 믿어줘서 너무 고맙다. -> 긍정(81.22%)\n"
          ]
        },
        {
          "output_type": "stream",
          "name": "stderr",
          "text": [
            "<ipython-input-211-d6ca1f3f48e8>:5: DeprecationWarning: Conversion of an array with ndim > 0 to a scalar is deprecated, and will error in future. Ensure you extract a single element from your array before performing this operation. (Deprecated NumPy 1.25.)\n",
            "  score = float(loaded_model.predict(new_pad))\n"
          ]
        }
      ],
      "source": [
        "sentiment_predict('나는 과일을 좋아해')\n",
        "sentiment_predict('엄마가 결국 집을 나갔어. 너무 너무 슬퍼.')\n",
        "sentiment_predict('좋아하는 선배에게 어제 고백을 받았어!')\n",
        "sentiment_predict('오늘 반장 선거에서 내가 반장이 됐어! 친구들이 날 믿어줘서 너무 고맙다.')"
      ]
    }
  ],
  "metadata": {
    "colab": {
      "provenance": []
    },
    "kernelspec": {
      "display_name": "Python 3",
      "name": "python3"
    },
    "language_info": {
      "name": "python"
    },
    "accelerator": "GPU"
  },
  "nbformat": 4,
  "nbformat_minor": 0
}