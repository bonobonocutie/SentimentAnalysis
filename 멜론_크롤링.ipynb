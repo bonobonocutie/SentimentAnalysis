{
  "nbformat": 4,
  "nbformat_minor": 0,
  "metadata": {
    "colab": {
      "provenance": [],
      "authorship_tag": "ABX9TyMDhwUPeqB0SgyGpLo9C1Cc"
    },
    "kernelspec": {
      "name": "python3",
      "display_name": "Python 3"
    },
    "language_info": {
      "name": "python"
    }
  },
  "cells": [
    {
      "cell_type": "code",
      "source": [
        "# Chrome 설치\n",
        "!apt-get update\n",
        "!apt-get install -y wget unzip\n",
        "!wget https://dl.google.com/linux/direct/google-chrome-stable_current_amd64.deb\n",
        "!dpkg -i google-chrome-stable_current_amd64.deb\n",
        "!apt --fix-broken install -y\n",
        "\n",
        "# ChromeDriver 자동 설치\n",
        "!pip install webdriver-manager\n",
        "\n",
        "# Selenium 설치\n",
        "!pip install selenium\n",
        "\n",
        "# ChromeDriver 다운로드\n",
        "!wget -N https://chromedriver.storage.googleapis.com/114.0.5735.90/chromedriver_linux64.zip\n",
        "!unzip chromedriver_linux64.zip\n",
        "!chmod +x chromedriver\n",
        "!mv -f chromedriver /usr/local/bin/chromedriver\n"
      ],
      "metadata": {
        "collapsed": true,
        "id": "laolvaA_2RVb"
      },
      "execution_count": null,
      "outputs": []
    },
    {
      "cell_type": "code",
      "source": [
        "from selenium import webdriver\n",
        "from selenium.webdriver.chrome.service import Service\n",
        "from selenium.webdriver.chrome.options import Options\n",
        "from selenium.webdriver.common.by import By\n",
        "import pandas as pd\n",
        "import time\n",
        "from webdriver_manager.chrome import ChromeDriverManager"
      ],
      "metadata": {
        "id": "wudpscxjlqpJ",
        "collapsed": true
      },
      "execution_count": null,
      "outputs": []
    },
    {
      "cell_type": "code",
      "source": [
        "# Chrome 옵션 설정\n",
        "chrome_options = Options()\n",
        "chrome_options.add_argument(\"--headless\")  # 브라우저를 창 없이 실행\n",
        "chrome_options.add_argument(\"--no-sandbox\")  # 리눅스에서 권한 문제 방지\n",
        "chrome_options.add_argument(\"--disable-dev-shm-usage\")  # 메모리 문제 방지\n",
        "\n",
        "# WebDriver 실행\n",
        "driver = webdriver.Chrome(service=Service(ChromeDriverManager().install()), options=chrome_options)"
      ],
      "metadata": {
        "id": "8FQMkH1JCV9Z"
      },
      "execution_count": null,
      "outputs": []
    },
    {
      "cell_type": "code",
      "source": [
        "chart2011_1=\"https://www.melon.com/chart/age/index.htm?chartType=YE&chartGenre=KPOP&chartDate=2011\"\n",
        "chart2011_2=\"https://www.melon.com/chart/age/index.htm?chartType=YE&chartGenre=KPOP&chartDate=2011#params%5Bidx%5D=51\"\n",
        "chart2012_1=\"https://www.melon.com/chart/age/index.htm?chartType=YE&chartGenre=KPOP&chartDate=2012\"\n",
        "\n",
        "chart2013_1=\"https://www.melon.com/chart/age/index.htm?chartType=YE&chartGenre=KPOP&chartDate=2013\"\n",
        "chart2013_2=\"https://www.melon.com/chart/age/index.htm?chartType=YE&chartGenre=KPOP&chartDate=2013#params%5Bidx%5D=51\"\n",
        "\n",
        "chart2014_2=\"https://www.melon.com/chart/age/index.htm?chartType=YE&chartGenre=KPOP&chartDate=2014#params%5Bidx%5D=51\"\n",
        "chart2015_1=\"https://www.melon.com/chart/age/index.htm?chartType=YE&chartGenre=KPOP&chartDate=2015\"\n",
        "chart2015_2=\"https://www.melon.com/chart/age/index.htm?chartType=YE&chartGenre=KPOP&chartDate=2015#params%5Bidx%5D=51\"\n",
        "chart2016_1=\"https://www.melon.com/chart/age/index.htm?chartType=YE&chartGenre=KPOP&chartDate=2016\"\n",
        "chart2016_2=\"https://www.melon.com/chart/age/index.htm?chartType=YE&chartGenre=KPOP&chartDate=2016#params%5Bidx%5D=51\"\n",
        "chart2017_1=\"https://www.melon.com/chart/age/index.htm?chartType=YE&chartGenre=KPOP&chartDate=2017\"\n",
        "chart2017_2=\"https://www.melon.com/chart/age/index.htm?chartType=YE&chartGenre=KPOP&chartDate=2017#params%5Bidx%5D=51\"\n",
        "chart2018_1=\"https://www.melon.com/chart/age/index.htm?chartType=YE&chartGenre=KPOP&chartDate=2018\"\n",
        "chart2018_2=\"https://www.melon.com/chart/age/index.htm?chartType=YE&chartGenre=KPOP&chartDate=2018#params%5Bidx%5D=51\"\n",
        "chart2019_1=\"https://www.melon.com/chart/age/index.htm?chartType=YE&chartGenre=KPOP&chartDate=2019\"\n",
        "chart2019_2=\"https://www.melon.com/chart/age/index.htm?chartType=YE&chartGenre=KPOP&chartDate=2019#params%5Bidx%5D=51\"\n",
        "chart2020_1=\"https://www.melon.com/chart/age/index.htm?chartType=YE&chartGenre=KPOP&chartDate=2020\"\n",
        "chart2020_2=\"https://www.melon.com/chart/age/index.htm?chartType=YE&chartGenre=KPOP&chartDate=2020#params%5Bidx%5D=51\"\n",
        "chart2021_1=\"https://www.melon.com/chart/age/index.htm?chartType=YE&chartGenre=KPOP&chartDate=2021\"\n",
        "chart2021_2=\"https://www.melon.com/chart/age/index.htm?chartType=YE&chartGenre=KPOP&chartDate=2021#params%5Bidx%5D=51\""
      ],
      "metadata": {
        "id": "5nm8HBzalvND"
      },
      "execution_count": null,
      "outputs": []
    },
    {
      "cell_type": "code",
      "source": [
        "#1차: year=[chart2015_1,chart2015_2,chart2016_1,chart2016_2,chart2017_1,chart2017_2,chart2018_1,chart2018_2]\n",
        "#2차: year=[chart2013_1,chart2013_2,chart2019_1,chart2019_2,chart2020_1,chart2020_2,chart2021_1,chart2021_2]\n",
        "#2012: 74위 없음, 2014: 24위 없음\n",
        "#3차: year=[chart2012_1,chart2014_2]\n",
        "# year=[chart2011_1,chart2011_2]\n",
        "year=[chart2015_1,chart2015_2,chart2016_1,chart2016_2,chart2017_1,chart2017_2,chart2018_1,chart2018_2]"
      ],
      "metadata": {
        "id": "jj8zRA1PoLyl"
      },
      "execution_count": null,
      "outputs": []
    },
    {
      "cell_type": "code",
      "source": [
        "title2=[]\n",
        "singer2=[]\n",
        "number=[]\n",
        "img2=[]"
      ],
      "metadata": {
        "id": "7FtHxW3Klz-V"
      },
      "execution_count": null,
      "outputs": []
    },
    {
      "cell_type": "code",
      "source": [
        "for k in range(len(year)):\n",
        "    if(k%2==0):\n",
        "        titleXPATH='//*[@id=\"lst50\"]/td[4]/div/div/div[1]/span/strong/a'\n",
        "        singerXPATH='//*[@id=\"lst50\"]/td[4]/div/div/div[2]/div[1]'\n",
        "        songXPATH= '//*[@id=\"lst50\"]/td/div/input'\n",
        "        imgXPATH='//*[@id=\"lst50\"]/td[3]/div/a/img'\n",
        "\n",
        "    else:\n",
        "        titleXPATH='//*[@id=\"lst100\"]/td[4]/div/div/div[1]/span/strong/a'\n",
        "        singerXPATH='//*[@id=\"lst100\"]/td[4]/div/div/div[2]/div[1]'\n",
        "        songXPATH= '//*[@id=\"lst100\"]/td/div/input'\n",
        "        imgXPATH='//*[@id=\"lst100\"]/td[3]/div/a/img'\n",
        "\n",
        "\n",
        "    #driver에 link 넣기\n",
        "    driver.get(year[k])\n",
        "    time.sleep(1)\n",
        "\n",
        "\n",
        "    #제목 가져오기\n",
        "    title = driver.find_elements(By.XPATH, titleXPATH)\n",
        "    for i in title:\n",
        "        title2.append(i.get_attribute('title'))\n",
        "\n",
        "\n",
        "    #가수 가져오기\n",
        "    singer=driver.find_elements(By.XPATH, singerXPATH)\n",
        "    for i in singer:\n",
        "        singer2.append(i.text)\n",
        "\n",
        "\n",
        "    #song number 가져오기\n",
        "    songTagList = driver.find_elements(By.XPATH, songXPATH)\n",
        "    for i in songTagList:\n",
        "        number.append(i.get_attribute('value'))\n",
        "\n",
        "\n",
        "    #이미지 가져오기\n",
        "    img = driver.find_elements(By.XPATH, imgXPATH)\n",
        "    for i in img:\n",
        "        img2.append(i.get_attribute('src'))"
      ],
      "metadata": {
        "id": "W2Wg9Oqdpa4Q"
      },
      "execution_count": null,
      "outputs": []
    },
    {
      "cell_type": "code",
      "source": [
        "LYRIC=[]\n",
        "for i in number:\n",
        "    driver.get(\"https://www.melon.com/song/detail.htm?songId=\" + i)\n",
        "    time.sleep(1)\n",
        "    try:\n",
        "      lyric=driver.find_element(By.CLASS_NAME, 'lyric')\n",
        "      LYRIC.append(lyric.text)\n",
        "\n",
        "    except:\n",
        "      LYRIC.append(\" \")"
      ],
      "metadata": {
        "id": "FBM6qgvPGmb7"
      },
      "execution_count": null,
      "outputs": []
    },
    {
      "cell_type": "code",
      "source": [
        "print(len(title2))\n",
        "print(len(singer2))\n",
        "print(len(LYRIC))\n",
        "print(len(img2))"
      ],
      "metadata": {
        "id": "YmA-dDHHpEWk"
      },
      "execution_count": null,
      "outputs": []
    },
    {
      "cell_type": "code",
      "source": [
        "#엑셀 출력\n",
        "df=pd.DataFrame()\n",
        "df['제목']=title2\n",
        "df['가수']=singer2\n",
        "df['가사']=LYRIC\n",
        "df['img']=img2\n",
        "df.to_excel('멜론.xlsx',header='false',index='false')"
      ],
      "metadata": {
        "id": "V0mChNEzmKzB"
      },
      "execution_count": null,
      "outputs": []
    }
  ]
}